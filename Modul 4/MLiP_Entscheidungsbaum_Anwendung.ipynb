{
 "cells": [
  {
   "cell_type": "markdown",
   "metadata": {},
   "source": [
    "# Beispiel Anwendung Entscheidungsbaum\n",
    "Kurs Maschinelles Lernen in der Produktion\n",
    "\n",
    "Ziel des Notebooks ist die Anwendung des Entscheidungsbaum\n",
    "\n",
    "### Prozessschritte Data-Mining:"
   ]
  },
  {
   "cell_type": "markdown",
   "metadata": {},
   "source": [
    "![Bild konnte nicht geladen werden! 1. Daten erfassen - 2. Daten erkunden - 3. Daten vorbereiten - 4. Modelle bilden - 5. Modelle validieren - 6. Modell testen](Prozess_Modellentwicklung_v2.png \"Prozess Modellentwicklung\")"
   ]
  },
  {
   "cell_type": "markdown",
   "metadata": {},
   "source": [
    "## 0. Bibliotheken importieren"
   ]
  },
  {
   "cell_type": "code",
   "execution_count": null,
   "metadata": {},
   "outputs": [],
   "source": [
    "# Importiere benötigte Bibliotheken\n",
    "import numpy as np\n",
    "import pandas as pd\n",
    "\n",
    "%matplotlib inline\n",
    "import matplotlib.pyplot as plt"
   ]
  },
  {
   "cell_type": "markdown",
   "metadata": {},
   "source": [
    "TODO:\n",
    "* Wähle eine Zahl zwischen 1 und 100 für die Generierung deiner spezifischen Zufallszahlen my_seed=\n",
    "\n",
    "(Wähle für alle Notebooks in allen Übungen immer die gleiche Zahl (z.B. den Tag deines Geburtstags), dann sind die Ergebnisse der verschiedenen Machine-Learning-Verfahren vergleichbar da dann alle Notebooks mit der \"gleichen\" Folge an Zufallszahlen arbeiten)\n",
    "\n",
    "AUSGABE:\n",
    "* Gewählte Zufallszahl"
   ]
  },
  {
   "cell_type": "code",
   "execution_count": null,
   "metadata": {},
   "outputs": [],
   "source": [
    "# Erstelle eigene Zufallszahlen\n",
    "my_seed = 2\n",
    "\n",
    "# Ausgabe gewählte Zufallszahlen\n",
    "print(\"\\nGewählte Zahl für Zufallszahlen: \\t\" + str(my_seed))"
   ]
  },
  {
   "cell_type": "markdown",
   "metadata": {},
   "source": [
    "## 1. Daten einlesen"
   ]
  },
  {
   "cell_type": "code",
   "execution_count": null,
   "metadata": {},
   "outputs": [],
   "source": [
    "# Daten händisch encoded, notwendig für die Anwendung des Modells\n",
    "# Geht auch automatisch mit:  from sklearn import preprocessing  preprocessing.LabelEncoder()\n",
    "raw_data = {'Bohrtiefe': [2, 3, 6, 1, 7, 3, 5, 3, 1, 4], \n",
    "            'NeuesWerkzeug': ['ja', 'nein', 'nein', 'nein', 'ja', 'ja', 'nein', 'nein', 'ja', 'ja'], \n",
    "            'NeuesWerkzeugEncoded': [1, 2, 2, 2, 1, 1, 2, 2, 1, 1],\n",
    "            'HaerteMaterial': ['hart', 'hart', 'mittel', 'weich', 'mittel', 'mittel', 'weich', 'hart', 'mittel', 'weich'],\n",
    "            'HaerteMaterialEncoded': [3, 3, 2, 1, 2, 2, 1, 3, 2, 1],\n",
    "            'BohrungIO': ['ja', 'nein', 'nein', 'ja', 'nein', 'ja', 'ja', 'nein', 'ja', 'ja'],\n",
    "            'BohrungIOEncoded': [1, 0, 0, 1, 0, 1, 1, 0, 1, 1]}\n",
    "    \n",
    "df = pd.DataFrame(data = raw_data)\n",
    "\n",
    "# Neue Daten zum validieren\n",
    "X_test1 = pd.DataFrame(data = np.array([[2, 2, 1]]), columns = ['Bohrtiefe', 'NeuesWerkzeugEncoded', 'HaerteMaterialEncoded'])\n",
    "X_test2 = pd.DataFrame(data = np.array([[4, 1, 3]]), columns = ['Bohrtiefe', 'NeuesWerkzeugEncoded', 'HaerteMaterialEncoded'])\n",
    "X_test3 = pd.DataFrame(data = np.array([[5, 2, 2]]), columns = ['Bohrtiefe', 'NeuesWerkzeugEncoded', 'HaerteMaterialEncoded'])\n",
    "print('Daten erfolgreich erstellt')"
   ]
  },
  {
   "cell_type": "markdown",
   "metadata": {},
   "source": [
    "## 2. Daten erkunden\n",
    "Es ist immer gut auch einen Blick in die Daten selbst zu werfen. Eine Möglichkeit dazu ist die Anzeige des DataFrames  bzw. eines Teils davon.  "
   ]
  },
  {
   "cell_type": "code",
   "execution_count": null,
   "metadata": {},
   "outputs": [],
   "source": [
    "# Darstellung des DataFrames\n",
    "df"
   ]
  },
  {
   "cell_type": "markdown",
   "metadata": {},
   "source": [
    "## 3. Daten vorbereiten\n",
    "Hier werden der DataFrame in \n",
    "* Features, die für das Trainings des Modell verwendet werden sollen, hier X_train  \n",
    "und \n",
    "* Zielgrößen, die vom Modell vorhergesagt werden sollen, hier y_train  \n",
    "\n",
    "aufgeteilt."
   ]
  },
  {
   "cell_type": "code",
   "execution_count": null,
   "metadata": {},
   "outputs": [],
   "source": [
    "# Trainingsdaten und Trainingszielgröße (X_train und y_train) festlegen\n",
    "X_train = df[['Bohrtiefe', 'NeuesWerkzeugEncoded', 'HaerteMaterialEncoded']]\n",
    "y_train = df['BohrungIOEncoded']"
   ]
  },
  {
   "cell_type": "markdown",
   "metadata": {},
   "source": [
    "## 4. Modelle bilden\n",
    "In diesem Schritt muss das gewünschte Verfahren importiert werden. Danach wird ein Modell erstellt. Dieses Modell kann anschließend mit den Trainingsdaten trainiert werden.  \n",
    "Wenn nicht klar ist, welches Modell importiert werden soll bzw. wie das Modell genau heißt, empfiehlt sich eine Internetsuche nach dem Schema:    \n",
    "python sklearn Verfahrensname  \n",
    "\n",
    "Gefundener Link zur Dokumentation:  \n",
    "* Allgemeine Infos zu Entscheidungsbaum inkl. welche Varianten werden bereitgestellt:  \n",
    "https://scikit-learn.org/stable/modules/tree.html#tree \n",
    "* Konkrete Infos zum Entscheidungsbaum für die Klassifikation, welches verwendet werden soll:  \n",
    "https://scikit-learn.org/stable/modules/generated/sklearn.tree.DecisionTreeClassifier.html\n"
   ]
  },
  {
   "cell_type": "code",
   "execution_count": null,
   "metadata": {},
   "outputs": [],
   "source": [
    "# Importiere Modell \n",
    "from sklearn.tree  import DecisionTreeClassifier\n",
    "\n",
    "# Erstelle Modell\n",
    "model = DecisionTreeClassifier(random_state=42)\n",
    "\n",
    "# Trainiere Modell\n",
    "model = model.fit(X_train, y_train)"
   ]
  },
  {
   "cell_type": "markdown",
   "metadata": {},
   "source": [
    "## 5. Modelle validieren\n",
    "In diesem Schritt wollen wir einen Blick auf das Ergebnis des Trainings werfen, d.h. den trainierten Baum betrachten.  \n",
    "\n",
    "Für die Darstellung stellt uns scikit-learn bereits eine Plot-Funktion zur Verfügung. Diese müssen wir aber importieren."
   ]
  },
  {
   "cell_type": "code",
   "execution_count": null,
   "metadata": {},
   "outputs": [],
   "source": [
    "# Grafische Ausgabe des Modells\n",
    "# Import der Plotfunktion von sklearn\n",
    "from sklearn.tree import plot_tree\n",
    "\n",
    "# Plot des Entscheidungsbaum - sehr einfache Variante\n",
    "plt.figure(figsize=(6, 9))\n",
    "plot_tree(model)\n",
    "plt.show()"
   ]
  },
  {
   "cell_type": "code",
   "execution_count": null,
   "metadata": {},
   "outputs": [],
   "source": [
    "# Grafische Ausgabe des Modells\n",
    "# Import der Plotfunktion von sklearn\n",
    "from sklearn.tree import plot_tree\n",
    "\n",
    "# Plot des Entscheidungsbaum \n",
    "plt.figure(figsize=(10, 8))\n",
    "plot_tree(model, filled=True, feature_names=X_train.columns, class_names=['nein', 'ja'])\n",
    "plt.show()"
   ]
  },
  {
   "cell_type": "markdown",
   "metadata": {},
   "source": [
    "## 6. Modell testen\n",
    "In diesem Schritt soll bewertet, werden wie gut das Modell bei neuen unbekannten Daten funktioniert, um abschätzen zu können wie gut das Modell letztendlich generalisiert und bei der Anwendung performt. "
   ]
  },
  {
   "cell_type": "code",
   "execution_count": null,
   "metadata": {},
   "outputs": [],
   "source": [
    "#Vorhersage mit .predict-Funktion\n",
    "# Bohrtiefe 2, Neues Werkzeug 'Nein' und Härte Material 'weich'\n",
    "vorhersage1 = model.predict(X_test1)\n",
    "print('Vorhersage für Bohrtiefe 2, Neues Werkzeug Nein und Härte Material weich: \\t' + str(vorhersage1[0]))\n",
    "\n",
    "# Bohrtiefe 4, Neues Werkzeug 'Ja' und Härte Material 'mittel'\n",
    "vorhersage2 = model.predict(X_test2)\n",
    "print('Vorhersage für Bohrtiefe 4, Neues Werkzeug Ja und Härte Material hart: \\t\\t' + str(vorhersage2[0]))\n",
    "\n",
    "# Bohrtiefe 6, Neues Werkzeug 'Nein' und Härte Material 'hart'\n",
    "vorhersage3 = model.predict(X_test3)\n",
    "print('Vorhersage für Bohrtiefe 5, Neues Werkzeug Nein und Härte Material mittel: \\t' + str(vorhersage3[0]))\n"
   ]
  },
  {
   "cell_type": "code",
   "execution_count": null,
   "metadata": {},
   "outputs": [],
   "source": []
  }
 ],
 "metadata": {
  "kernelspec": {
   "display_name": "Python 3 (ipykernel)",
   "language": "python",
   "name": "python3"
  },
  "language_info": {
   "codemirror_mode": {
    "name": "ipython",
    "version": 3
   },
   "file_extension": ".py",
   "mimetype": "text/x-python",
   "name": "python",
   "nbconvert_exporter": "python",
   "pygments_lexer": "ipython3",
   "version": "3.8.12"
  }
 },
 "nbformat": 4,
 "nbformat_minor": 2
}
