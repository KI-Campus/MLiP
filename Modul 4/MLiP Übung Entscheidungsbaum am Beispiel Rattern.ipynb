{
 "cells": [
  {
   "cell_type": "markdown",
   "metadata": {},
   "source": [
    "# MLiP Entscheidungsbaum am Beispiel Rattern\n",
    "Kurs Maschinelles Lernen in der Produktion  \n",
    "\n",
    "#### In diesem Notebook wird das Verfahren Entscheidungsbaum anhand des Anwendungsbeispiels Rattern geübt.\n",
    "\n",
    "Bei der Fertigung von Bauteilen treten manchmal störende Schwingungen auf, sog. Rattern. Dieses schädigt die Werkzeuge und führt zu einer niedrigeren Bauteilqualität.\n",
    "\n",
    "Im Datensatz \"Rattern\" werden die Drehzahl der Spindel und die Tiefe des Schnitts einer CNC-Fräse gemessen. Es soll ein Entscheidungsbaum erstellt werden. Dises soll vorhersagen können, bei welcher Kombination aus Drehzahl und Schnitttiefe das Rattern auftritt. "
   ]
  },
  {
   "cell_type": "markdown",
   "metadata": {},
   "source": [
    "![alt text](Prozess_Modellentwicklung_v2.png \"Title\")"
   ]
  },
  {
   "cell_type": "markdown",
   "metadata": {},
   "source": [
    "### 0.Bibliotheken importieren"
   ]
  },
  {
   "cell_type": "code",
   "execution_count": null,
   "metadata": {},
   "outputs": [],
   "source": [
    "# Importiere benötigte Bibliotheken\n",
    "import pandas as pd\n",
    "import numpy as np\n",
    "import matplotlib.pyplot as plt\n",
    "from sklearn.metrics import accuracy_score, f1_score\n",
    "\n",
    "#Einstellungen für die Grafikausgabe\n",
    "style = 'seaborn-whitegrid'\n",
    "plt.style.use(style)\n",
    "plt.rcParams.update({'font.size': 14})  # Schriftgröße aller Textzeichen im Graphen"
   ]
  },
  {
   "cell_type": "markdown",
   "metadata": {},
   "source": [
    "TODO:\n",
    "* Wähle eine Zahl zwischen 1 und 100 für die Generierung deiner spezifischen Zufallszahlen my_seed=\n",
    "\n",
    "(Wähle für alle Notebooks in allen Übungen immer die gleiche Zahl (z.B. den Tag deines Geburtstags), dann sind die Ergebnisse der verschiedenen Machine-Learning-Verfahren vergleichbar da dann alle Notebooks mit der \"gleichen\" Folge an Zufallszahlen arbeiten)\n",
    "\n",
    "AUSGABE:\n",
    "* Gewählte Zufallszahl"
   ]
  },
  {
   "cell_type": "code",
   "execution_count": null,
   "metadata": {},
   "outputs": [],
   "source": [
    "# Erstelle eigene Zufallszahlen\n",
    "my_seed = TODO\n",
    "\n",
    "# Ausgabe gewählte Zufallszahlen\n",
    "print(\"\\nGewählte Zahl für Zufallszahlen: \\t\" + str(my_seed))"
   ]
  },
  {
   "cell_type": "markdown",
   "metadata": {},
   "source": [
    "### 1. Daten erfassen - Daten importieren\n",
    "\n",
    "Import der Daten mittels der read_csv-Funktion von Pandas.  \n",
    "Achtung, es gibt zwei Datensätze, einen mit den Trainingsdaten und einen mit den Testdaten. "
   ]
  },
  {
   "cell_type": "code",
   "execution_count": null,
   "metadata": {},
   "outputs": [],
   "source": [
    "# Lade Datensatz\n",
    "df_train = pd.read_csv(\"Trainingsdaten_Rattern.csv\")\n",
    "df_test = pd.read_csv(\"Testdaten_Rattern.csv\")"
   ]
  },
  {
   "cell_type": "markdown",
   "metadata": {},
   "source": [
    "### 2.1 Daten erkunden - Daten tabellarisch darstellen\n",
    "\n",
    "TODO:\n",
    "* Schreibe die Code-Zeile, um dir die letzten 10 Zeilen das Datensatzes anzuzeigen\n",
    "* Hilfe dafür im Cheat_Sheet_Daten_erkunden\n",
    "\n",
    "AUSGABE:\n",
    "* Tabelle des Datensatzes"
   ]
  },
  {
   "cell_type": "code",
   "execution_count": null,
   "metadata": {},
   "outputs": [],
   "source": [
    "# Ausgabe der Daten in tabellarischer Form\n",
    "df_train.tail(TODO)"
   ]
  },
  {
   "cell_type": "markdown",
   "metadata": {},
   "source": [
    "### 2.2 Daten erkunden - Klassenzugehörigkeit anzeigen\n",
    "\n",
    "Visuelle Darstellung der Klassenzugehörigkeit."
   ]
  },
  {
   "cell_type": "code",
   "execution_count": null,
   "metadata": {},
   "outputs": [],
   "source": [
    "# Zeige Klassenzugehörigkeit an\n",
    "fig = plt.figure(figsize=(20, 10))\n",
    "surf = plt.scatter(\n",
    "    df_train[\"Drehzahl Spindel\"],\n",
    "    df_train[\"Tiefe des Schnitts\"],\n",
    "    c=df_train[\"Rattern\"],\n",
    "    cmap=plt.cm.coolwarm,\n",
    "    s=150,\n",
    "    alpha=0.7,\n",
    "    edgecolors=\"black\"\n",
    ")\n",
    "#plt.colorbar(surf)\n",
    "plt.xlim(7750, 16250)\n",
    "plt.ylim(0, 0.023)\n",
    "plt.xlabel(\"Drehzahl Spindel\")\n",
    "plt.ylabel(\"Tiefe des Schnitts\")\n",
    "plt.title(\"Effekt des Ratterns über Schnitttiefe und Spindeldrehzahl\")\n",
    "plt.show()"
   ]
  },
  {
   "cell_type": "markdown",
   "metadata": {},
   "source": [
    "### 3 Daten vorbereiten - Aufteilen der Daten\n",
    "\n",
    "In diesem Beispiel wurden die Daten bereits vorab in Trainings- und Testdaten aufgeteilt, somit müssen wir nur noch die Aufteilung in X und y vornehmen. "
   ]
  },
  {
   "cell_type": "code",
   "execution_count": null,
   "metadata": {},
   "outputs": [],
   "source": [
    "# Teile Datensatz in X und y auf\n",
    "X_train, y_train = (\n",
    "    df_train[[\"Drehzahl Spindel\", \"Tiefe des Schnitts\"]],\n",
    "    df_train[\"Rattern\"],\n",
    ")\n",
    "X_test, y_test = (\n",
    "    df_test[[\"Drehzahl Spindel\", \"Tiefe des Schnitts\"]],\n",
    "    df_test[\"Rattern\"],\n",
    ")\n",
    "\n",
    "# Ausgabe Datensätze und Anzahl Datenpunkte\n",
    "print(\"\\nAnzahl Traingsdaten: \\t\" + str(len(y_train)) + \" / \" + str(len(df_train)+len(df_test)))\n",
    "print(\"Anzahl Testdaten: \\t\" + str(len(y_test)) + \" / \" + str(len(df_train)+len(df_test)))"
   ]
  },
  {
   "cell_type": "markdown",
   "metadata": {},
   "source": [
    "### 4.1 Modelle bilden - Mögliche Hyperparameter anzeigen\n",
    "\n",
    "Vor der Erstellung eines Modells lassen wir uns zunächst alle einstellbaren Hyperparameter anzeigen."
   ]
  },
  {
   "cell_type": "code",
   "execution_count": null,
   "metadata": {},
   "outputs": [],
   "source": [
    "# Ausgabe möglicher Hyperparameter\n",
    "from sklearn.tree import DecisionTreeClassifier, plot_tree\n",
    "\n",
    "DecisionTreeClassifier().get_params()"
   ]
  },
  {
   "cell_type": "markdown",
   "metadata": {},
   "source": [
    "Beschreibung der Hyperparameter:\n",
    "http://scikit-learn.org/stable/modules/generated/sklearn.tree.DecisionTreeClassifier.html"
   ]
  },
  {
   "cell_type": "markdown",
   "metadata": {},
   "source": [
    "### 4.2 Modelle bilden - Modell erstellen und trainieren\n",
    "\n",
    "Aufstellen des untrainierten Modells, mögliche Hyperparameter sind:\n",
    "* max_depth (maximale Tiefe des Baumes)\n",
    "* min_samples_leaf (minimale Anzahl an Datenpunkten pro Blatt)\n",
    "* min_samples_split (minimale Anzahl an Datenpunkten damit ein Split durchgeführt werden kann)\n",
    "\n",
    "Wähle selbst welche Hyperparameter du für dein Modell verwenden möchtest.\n",
    "\n",
    "TODO:\n",
    "* Setze die einzustellenden Hyperparameter in die Klammer hinter dem Modell, zu Begin kannst du auch ein Modell ohne Hyperparameter (Standardeinstellungen) erstellen (sprich TODO einfach löschen) (Zeile 2)\n",
    "* Setze immer den Hyperparameter random_state=my_seed ein (Zeile 2)\n",
    "* z.B. decision_tree = tree.DecisionTreeClassifier(random_state=my_seed, max_depth=8)\n",
    "* Setze die Trainingsdaten in den .fit-Befehle ein (X_train und y_train) (Zeile 5)\n",
    "\n",
    "AUSGABE:\n",
    "* trainierter Entscheidungsbaum"
   ]
  },
  {
   "cell_type": "code",
   "execution_count": null,
   "metadata": {},
   "outputs": [],
   "source": [
    "# Erstellen des Modells\n",
    "model = DecisionTreeClassifier(random_state=TODO, TODO)\n",
    "\n",
    "# Trainiere das Modell\n",
    "model.fit(TODO, TODO)\n",
    "\n",
    "# Ausgabe des trainierten Entscheidungsbaumes\n",
    "plt.figure(figsize=(16, 12))\n",
    "plot_tree(model, filled=True, feature_names=list(df_train.columns.values))\n",
    "plt.show()"
   ]
  },
  {
   "cell_type": "markdown",
   "metadata": {},
   "source": [
    "### 4.3 Modelle bilden - Bewertung des Trainings - Genauigkeit\n",
    "\n",
    "Wir berechnen die Genauigkeit des Modells auf den Trainingsdaten (richtige Vorhersagen/alle Vorhersagen).\n",
    "\n",
    "TODO:\n",
    "* Setze X_train in die .predict-Funktion ein, um eine Vorhersage für die Trainingsdaten zu berechnen (Zeile 2)\n",
    "* Übergebe der accuray_score-Funktion und der f1-score-Funktion y_train und y_train_pred, um die Genauigkeit bzw. den F1-Score auf den Trainingsdaten zu berechnen. (Zeile 5 und Zeile 8)  \n",
    "\n",
    "AUSGABE:\n",
    "* Genauigkeit und F1-Score des Modells auf Trainingsdaten"
   ]
  },
  {
   "cell_type": "code",
   "execution_count": null,
   "metadata": {},
   "outputs": [],
   "source": [
    "# Berechnung der Vorhersage basierend auf den Trainingsdaten\n",
    "y_train_pred = model.predict(TODO)\n",
    "\n",
    "# Berechne Genauigkeit auf den Trainingsdaten\n",
    "accuracy_train = accuracy_score(TODO, TODO)\n",
    "\n",
    "# Berechne den F1-Score auf den Trainingsdaten\n",
    "f1score_train = f1_score(TODO, TODO)\n",
    "\n",
    "# Ausgabe der Modellgenauigkeit\n",
    "print('Ergebnis für das Training:')\n",
    "print('Accuracy: \\t' + str(round(accuracy_train, 3)))\n",
    "print('F1-Score: \\t' + str(round(f1score_train, 3)))"
   ]
  },
  {
   "cell_type": "markdown",
   "metadata": {},
   "source": [
    "### 5. Validieren der Modelle - entfällt\n",
    "\n",
    "Dieser Schritt ist nur nötig wenn mehrere Modelle erstellt werden."
   ]
  },
  {
   "cell_type": "markdown",
   "metadata": {},
   "source": [
    "### 6.1 Modell testen & anwenden - Bewertung des Modells - Konfusionsmatrix\n",
    "\n",
    "Um die Modellgüte visuell darzustellen wird eine Wahrheitsmatrix erstellt."
   ]
  },
  {
   "cell_type": "code",
   "execution_count": null,
   "metadata": {},
   "outputs": [],
   "source": [
    "import matplotlib.pyplot as plt\n",
    "from sklearn.metrics import confusion_matrix, ConfusionMatrixDisplay\n",
    "\n",
    "ConfusionMatrixDisplay.from_estimator(model, X_test, y_test)\n",
    "plt.title('Konfusionsmatrix auf Testdaten')\n",
    "plt.grid()\n",
    "plt.show()"
   ]
  },
  {
   "cell_type": "markdown",
   "metadata": {},
   "source": [
    "### 6.2 Modell testen & anwenden - Bewertung des Modells - Genauigkeit\n",
    "\n",
    "Wir berechnen die Genauigkeit des Modells auf den Testdaten (richtige Vorhersagen/alle Vorhersagen).\n",
    "\n",
    "TODO:\n",
    "* Setze X_test in die .predict-Funktion ein, um eine Vorhersage für die Trainingsdaten zu berechnen (Zeile 2)\n",
    "* Übergebe der accuray_score-Funktion und der f1-score-Funktion y_test und y_test_pred, um die Genauigkeit bzw. den F1-Score auf den Trainingsdaten zu berechnen. (Zeile 5 und Zeile 8)\n",
    "\n",
    "AUSGABE:\n",
    "- Genauigkeit und F1-Score des Modells auf Testdaten"
   ]
  },
  {
   "cell_type": "code",
   "execution_count": null,
   "metadata": {},
   "outputs": [],
   "source": [
    "# Berechnung der Vorhersage basierend auf den Testdaten\n",
    "y_test_pred = model.predict(TODO)\n",
    "\n",
    "# Berechne Genauigkeit auf den Testdaten\n",
    "accuracy_test = accuracy_score(TODO, TODO)\n",
    "\n",
    "# Berechne den F1-Score auf den Testdaten\n",
    "f1score_test = f1_score(TODO, TODO)\n",
    "\n",
    "# Ausgabe der Modellgenauigkeit\n",
    "print('Ergebnis für das Training:')\n",
    "print('Accuracy: \\t' + str(round(accuracy_test, 3)))\n",
    "print('F1-Score: \\t' + str(round(f1score_test, 3)))"
   ]
  },
  {
   "cell_type": "markdown",
   "metadata": {},
   "source": [
    "### 6.3 Modell testen & anwenden - Bewertung des Modells - falsche Vorhersagen\n",
    "\n",
    "Mit dem erstellten Modell wird eine Vorhersage für alle Testdaten berechnet und diese mit den realen Werten verglichen."
   ]
  },
  {
   "cell_type": "code",
   "execution_count": null,
   "metadata": {},
   "outputs": [],
   "source": [
    "# Speichere echte Werte und Vorhersagen für Testdaten in DataFrame\n",
    "results_test = pd.DataFrame(y_test)\n",
    "results_test[\"Vorhersage\"] = y_test_pred\n",
    "\n",
    "# Ausgabe aller falschen Vorhersagen des Testdatensatzes\n",
    "print(\"\\nTestdaten - \" + str(len(results_test[(results_test[\"Vorhersage\"] != results_test[\"Rattern\"])]))\n",
    "    + \" falsche Vorhersage des Entscheidungsbaumes:\")\n",
    "results_test[(results_test[\"Vorhersage\"] != results_test[\"Rattern\"])]"
   ]
  },
  {
   "cell_type": "markdown",
   "metadata": {},
   "source": [
    "### 6.4 Modell testen & anwenden - Modell visualisieren\n",
    "\n",
    "Da das Modell nur 2 Input-Parameter benötigt können wir alle möglichen Modell-Vorhersagen grafisch visualisieren."
   ]
  },
  {
   "cell_type": "code",
   "execution_count": null,
   "metadata": {},
   "outputs": [],
   "source": [
    "# Erstelle Grid für Modellausgabe\n",
    "x = np.linspace(\n",
    "    X_train[\"Drehzahl Spindel\"].min(), X_train[\"Drehzahl Spindel\"].max(), 200\n",
    ")\n",
    "y = np.linspace(\n",
    "    X_train[\"Tiefe des Schnitts\"].min(), X_train[\"Tiefe des Schnitts\"].max(), 200\n",
    ")\n",
    "X, Y = np.meshgrid(x, y)\n",
    "\n",
    "# Berechne Modellvorhersage\n",
    "z = pd.DataFrame({\"Drehzahl Spindel\": X.ravel(), \"Tiefe des Schnitts\": Y.ravel()})\n",
    "z = model.predict(z)\n",
    "\n",
    "# Ausgabe Modellvorhersage\n",
    "\n",
    "Z = np.asarray(z).reshape(200, 200)\n",
    "fig = plt.figure(figsize=(20, 12))\n",
    "plt.title(\n",
    "    \"Modellvorhersage und Datensätze (Train = Kreis, Test = Raute)\"\n",
    ")\n",
    "plt.xlabel(\"Drehzahl Spindel\")\n",
    "plt.ylabel(\"Tiefe des Schnitts\")\n",
    "surf = plt.contourf(X, Y, Z, cmap=plt.cm.coolwarm)\n",
    "plt.colorbar(surf)\n",
    "plt.scatter(\n",
    "    X_train[\"Drehzahl Spindel\"],\n",
    "    X_train[\"Tiefe des Schnitts\"],\n",
    "    c=y_train,\n",
    "    marker=\"o\",\n",
    "    alpha=0.3,\n",
    "    edgecolors=\"black\",\n",
    "    s=70,\n",
    ")\n",
    "plt.scatter(\n",
    "    X_test[\"Drehzahl Spindel\"],\n",
    "    X_test[\"Tiefe des Schnitts\"],\n",
    "    c=y_test,\n",
    "    marker=\"D\",\n",
    "    edgecolors=\"black\",\n",
    "    s=70,\n",
    ")\n",
    "plt.show()"
   ]
  },
  {
   "cell_type": "markdown",
   "metadata": {},
   "source": [
    "### 7 Bonus - Visualisierung der Genauigkeit über der Baumtiefe und der minimale Anzahl Samples je Blatt\n",
    "\n",
    "In diesem Block lassen wir Schleifen über mehrere Hyperparameter laufen, um automatich die Modelle für diese Werte zu trainieren und anschließend zu vergleichen.  \n",
    "Der Vergleich wird mittels einem Konturplots dargestellt. Dabei gibt die Farbe am entsprechenden Ort die Höhe der Accuracy wieder. "
   ]
  },
  {
   "cell_type": "code",
   "execution_count": null,
   "metadata": {},
   "outputs": [],
   "source": [
    "# Berechne Grid\n",
    "depths = [2, 3, 4, 5, 6, 7, 8, 9, 10, 11, 12, 13, 14, 15]\n",
    "min_samples = [2, 3, 4, 5, 6, 7, 8, 9, 10, 11, 12, 13, 14, 15]\n",
    "\n",
    "# Berechne Genauigkeit je Gridpunkt\n",
    "x, y, z = [], [], []\n",
    "for min_sample in min_samples:\n",
    "    for depth in depths:\n",
    "\n",
    "        # Trainiere Modell & Berechne Vorhersage\n",
    "        model = DecisionTreeClassifier(random_state=my_seed, max_depth=depth, min_samples_leaf=min_sample)\n",
    "        model.fit(X_train, y_train)\n",
    "        results_ = pd.DataFrame(y_test)\n",
    "\n",
    "        y_test_pred = model.predict(X_test)\n",
    "        # Berechne Accuracy\n",
    "        accuracy_test = accuracy_score(y_test_pred, y_test)\n",
    "        x.append(depth)\n",
    "        y.append(min_sample)\n",
    "        z.append(accuracy_test)\n",
    "X = np.asarray(x).reshape(len(depths), len(min_samples))\n",
    "Y = np.asarray(y).reshape(len(depths), len(min_samples))\n",
    "Z = np.asarray(z).reshape(len(depths), len(min_samples))\n",
    "\n",
    "# Ausgabe\n",
    "fig = plt.figure(figsize=(12, 10))\n",
    "ax = fig.add_subplot(111)\n",
    "surf = plt.contourf(X, Y, Z, cmap=plt.cm.coolwarm_r)\n",
    "fig.colorbar(surf)\n",
    "plt.title(\"Accuracy (Testdaten) abhängig von maximalen Tiefe des Baumes und minimalen Anzahl von Samples je Blatt\")\n",
    "plt.xlabel(\"maximale Tiefe des Baumes\")\n",
    "plt.ylabel(\"minimale Anzahl Samples je Blatt\")\n",
    "plt.show()\n"
   ]
  },
  {
   "cell_type": "code",
   "execution_count": null,
   "metadata": {},
   "outputs": [],
   "source": []
  }
 ],
 "metadata": {
  "file_extension": ".py",
  "kernelspec": {
   "display_name": "Python (MLiP)",
   "language": "python",
   "name": "python-mlip"
  },
  "language_info": {
   "codemirror_mode": {
    "name": "ipython",
    "version": 3
   },
   "file_extension": ".py",
   "mimetype": "text/x-python",
   "name": "python",
   "nbconvert_exporter": "python",
   "pygments_lexer": "ipython3",
   "version": "3.7.4"
  },
  "mimetype": "text/x-python",
  "name": "python",
  "npconvert_exporter": "python",
  "pygments_lexer": "ipython3",
  "version": 3
 },
 "nbformat": 4,
 "nbformat_minor": 4
}
