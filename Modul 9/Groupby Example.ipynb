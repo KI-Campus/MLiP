{
 "cells": [
  {
   "cell_type": "markdown",
   "metadata": {},
   "source": [
    "# MLiP Groupby with pandas\n",
    "Kurs Maschinelles Lernen in der Produktion\n",
    "\n",
    "#### Zielstellung:\n",
    "\n",
    "In manchen Datensätzen existieren je Sample mehrere Messwerte für ein Feature (siehe df_data_raw, Output 1). \n",
    "\n",
    "Um die im Kurs gelernten Verfahren anwenden zu können, ist ein Datensatz mit nur einem Messwert je Sample und Feature nötig (siehe df_data_should, Output 2). \n",
    "\n",
    "Hierfür wird die Groupby-Funktion von pandas verwendet, um die mehreren Messwerte eines Samples und Feature zu einem Wert zusammenzufassen."
   ]
  },
  {
   "cell_type": "code",
   "execution_count": null,
   "metadata": {},
   "outputs": [],
   "source": [
    "# Bibliotheken importieren\n",
    "import numpy as np\n",
    "import pandas as pd"
   ]
  },
  {
   "cell_type": "code",
   "execution_count": null,
   "metadata": {},
   "outputs": [],
   "source": [
    "\n",
    "df_data_raw = pd.DataFrame({'sample_ID': [1, 1, 1, 2, 2, 2, 3, 3, 3, 4, 4, 4], \n",
    "                        'acc_y': [0.1, 0.01, 0.2, 3.1, 0.2, 0.1, 0.1, 0.21, 0.05, 0.1, 2.4, 3.2],\n",
    "                        'time_secs': [0, 1, 2, 0, 1, 2, 0, 1, 2, 0, 1, 2],\n",
    "                        'part_ID': [0, 0, 1, 0, 0, 1, 0, 0, 1, 0, 0, 1],\n",
    "                        'class': ['ok', 'ok', 'ok', 'dam', 'dam', 'dam', 'ok', 'ok', 'ok', 'dam', 'dam', 'dam']})\n",
    "print('Der rohe Datensatz mit 3 Messungen für die y-Beschleunigung (je 3 Zeitpunkten (0, 1, 2)) für jedes Sample.')\n",
    "df_data_raw"
   ]
  },
  {
   "cell_type": "code",
   "execution_count": null,
   "metadata": {},
   "outputs": [],
   "source": [
    "df_data_should = pd.DataFrame({'sample_ID': [1, 2, 3, 4], \n",
    "                               'acc_y': ['?', '?', '?', '?'],\n",
    "                               'class': ['ok', 'dam', 'ok', 'dam']})\n",
    "print('Gewünschte Struktur des Datensatzes')\n",
    "df_data_should"
   ]
  },
  {
   "cell_type": "markdown",
   "metadata": {},
   "source": [
    "### 1. Erstellen der Spalten Sample (ID) und der Zielvariable\n",
    "Es wird als erstes die Spalte ID und Klasse für den neuen Datensatz erstellt. \n",
    "\n",
    "1. Benötigte Spalten aus Rohdaten:\n",
    "    - Spalten ID ('sample_ID') und Klasse ('class')\n",
    "\n",
    "\n",
    "2. Zusammenfassen mittels .groupby\n",
    "    - Nun wird mittels .groupby('sample_ID') der Datensatz so zusammengefasst, dass alle Zeilen mit gleicher sample_ID zu einer Zeile zusammengefasst werden. \n",
    "    \n",
    "\n",
    "3. Operation, wie die Messwerte zu einem Wert zusammengefasst werden sollen\n",
    "    - Mit .first() wird festgelegt, dass von allen Zeilen mit gleicher sample_ID nur die erste (.first()) verwendet wird.\n",
    "    \n",
    "    \n",
    "4. Rückumwandlung in DataFrame-Object\n",
    "    - Mit .reset_index() wird das Gouped-Object in ein DataFrame-Object transformiert."
   ]
  },
  {
   "cell_type": "code",
   "execution_count": null,
   "metadata": {},
   "outputs": [],
   "source": [
    "df_new_id = df_data_raw[['sample_ID', 'class']].groupby('sample_ID').first().reset_index()\n",
    "df_new_id"
   ]
  },
  {
   "cell_type": "markdown",
   "metadata": {},
   "source": [
    "### 2. Erstellen eines 1. Features\n",
    "Es wird ein Feature für den neuen Datensatz erstellt. \n",
    "\n",
    "1. Benötigte Spalten aus Rohdaten:\n",
    "    - Spalten ID und Feature\n",
    "    \n",
    "\n",
    "2. Zusammenfassen mittels .groupby\n",
    "    - Nun wird mittels .groupby('sample_ID') der Datensatz so zusammengefasst, dass alle Zeilen mit gleicher sample_ID zu einer Zeile zusammengefasst werden. \n",
    "    \n",
    "\n",
    "3. Aggregatfunktion, wie die Messwerte zu einem Wert zusammengefasst werden sollen\n",
    "    - Mit .mean() wird festgelegt, dass von allen Zeilen mit gleicher sample_ID der Mittelwert als neuer Wert verwendet wird.\n",
    "    \n",
    "    \n",
    "4. Rückumwandlung in DataFrame-Object\n",
    "    - Mit .reset_index() wird das Gouped-Object in ein DataFrame-Object transformiert."
   ]
  },
  {
   "cell_type": "code",
   "execution_count": null,
   "metadata": {},
   "outputs": [],
   "source": [
    "df_new_mean = df_data_raw[['sample_ID', 'acc_y']].groupby('sample_ID').mean().reset_index()\n",
    "df_new_mean = df_new_mean.rename(columns={'acc_y': 'mean_acc_y'})\n",
    "df_new_mean"
   ]
  },
  {
   "cell_type": "markdown",
   "metadata": {},
   "source": [
    "### 3. Erstellen eines 2. Feautures\n",
    "Es wird ein Feature für den neuen Datensatz erstellt. \n",
    "\n",
    "1. Benötigte Spalten aus Rohdaten:\n",
    "    - Spalten ID und Feature\n",
    "    \n",
    "\n",
    "2. Zusammenfassen mittels .groupby\n",
    "    - Nun wird mittels .groupby('sample_ID') der Datensatz so zusammengefasst, dass alle Zeilen mit gleicher sample_ID zu einer Zeile zusammengefasst werden. \n",
    "    \n",
    "\n",
    "3. Aggregatfunktion, wie die Messwerte zu einem Wert zusammengefasst werden sollen\n",
    "    - Mit .max() wird festgelegt, dass von allen Zeilen mit gleicher sample_ID der Maximalwert als neuer Wert verwendet wird.\n",
    "    \n",
    "    \n",
    "4. Rückumwandlung in DataFrame-Object\n",
    "    - Mit .reset_index() wird das Gouped-Object in ein DataFrame-Object transformiert."
   ]
  },
  {
   "cell_type": "code",
   "execution_count": null,
   "metadata": {},
   "outputs": [],
   "source": [
    "df_new_max = df_data_raw[['sample_ID', 'acc_y']].groupby('sample_ID').max().reset_index()\n",
    "df_new_max = df_new_max.rename(columns={'acc_y': 'max_acc_y'})\n",
    "df_new_max"
   ]
  },
  {
   "cell_type": "markdown",
   "metadata": {},
   "source": [
    "### 4. Mergen zu Datensatz"
   ]
  },
  {
   "cell_type": "code",
   "execution_count": null,
   "metadata": {},
   "outputs": [],
   "source": [
    "df_new = pd.merge(df_new_id, df_new_mean, on='sample_ID', how='inner')\n",
    "df_new"
   ]
  },
  {
   "cell_type": "code",
   "execution_count": null,
   "metadata": {},
   "outputs": [],
   "source": [
    "df_new = pd.merge(df_new, df_new_max, on='sample_ID', how='inner')\n",
    "df_new"
   ]
  },
  {
   "cell_type": "markdown",
   "metadata": {},
   "source": [
    "Der Datensatz ist hiermit fertig. Es wurden sogar für das Signal (acc_y) zwei Features (mean und max) gebildet. Der erstellte DataFrame kann nun für das Maschinelle Lernen verwendet werden.\n",
    "\n",
    "__Achtung__: Hier geschieht eine Informationsreduktion, da die 3 Messwerte je Sample zu einem zusammengefasst werden (Hier einemal zum Mittelwert und einmal zum Maximalwert).\n",
    "\n",
    "Die erstellten Features müssen den Zusammenhang der Problemstellung abbiden/enthalten um ein gutes Modell zu trainieren."
   ]
  },
  {
   "cell_type": "markdown",
   "metadata": {},
   "source": [
    "### Einige mögliche interene Funktionen zur Zusammenfassung von Werten:\n",
    "\n",
    "- min()\n",
    "- max()\n",
    "- mean()\n",
    "- median()\n",
    "\n",
    "\n",
    "- std()\n",
    "- var()\n",
    "- mad()\n",
    "\n",
    "\n",
    "- sum()\n",
    "- prod()\n",
    "- count()\n",
    "\n",
    "\n",
    "- first()\n",
    "- last()\n",
    "\n",
    "__Hinweis__  \n",
    "Es können auch eigene Funktionen definiert werden und als Aggregatfunktion genutzt werden."
   ]
  },
  {
   "cell_type": "markdown",
   "metadata": {},
   "source": [
    "## Anwendung von mehreren Aggregatfunktionen bei groupby\n",
    "\n",
    "Anstatt mehrere Features jeweils einzeln zu kreieren und die Ergebnisse anschließend zu mergen, können mehrere Aggregatfunktionen gleichzeitig und Spaltenweise übergeben werden.  \n",
    "Dies erfolgt über die Anwendung des Befehls \".agg\" nach dem groupby.  \n",
    "Hier wird als Dictionary für jede Spalte die entsprechenden anzuwendenen Funktion bzw. Funktionen angegeben.  \n",
    "\n",
    "{'zu_aggregierende_Spalte' : Aggregatfunktion,  \n",
    "'zu_aggregierende_Spalte2' : [Aggregatfunktion1, Aggregatfunktion2, ...]  \n",
    "}\n",
    "\n",
    "Zusätzlich soll noch eine eigene Aggregatfunktion definiert werden. "
   ]
  },
  {
   "cell_type": "code",
   "execution_count": null,
   "metadata": {},
   "outputs": [],
   "source": [
    "#Definiton einer eigenen Aggregatfunktion - Beispiel RMS - Effektivwert\n",
    "# Achtung, eigene Aggregatfunktionen bekommen als Argument eine pandas series\n",
    "\n",
    "def RMS(series):\n",
    "    \"\"\"\n",
    "    Calculates root mean square (as measurement of energy level).\n",
    "    \"\"\"\n",
    "    series = series.to_numpy()\n",
    "    return np.sqrt(np.mean(np.square(series))) if len(series) > 0 else np.NaN"
   ]
  },
  {
   "cell_type": "markdown",
   "metadata": {},
   "source": [
    "Anwenden von mehreren Aggregatfunktionen bei groupby mittels dem .agg Befehls.  \n",
    "__Hinweis__\n",
    "* Es empfiehlt sich dem groupby Befehl den Parameter \"as_index = False\" übergeben, um eine neue Indexspalte generieren zu lassen. "
   ]
  },
  {
   "cell_type": "code",
   "execution_count": null,
   "metadata": {},
   "outputs": [],
   "source": [
    "df_grouped = df_data_raw.groupby('sample_ID', as_index = False).agg({'acc_y': ['mean', 'max', RMS], \n",
    "                                                                     'class': 'first'})\n",
    "df_grouped.head(5)"
   ]
  },
  {
   "cell_type": "markdown",
   "metadata": {},
   "source": [
    "__Achtung__  \n",
    "Die Verwendung von mehreren Aggregatfunktionen führt zu einen mehrschichtigen Tabellenkopf:"
   ]
  },
  {
   "cell_type": "markdown",
   "metadata": {},
   "source": [
    "__Lösungsvorschlag__  \n",
    "Der automatisch einzeilige Kopfzeile erzeugt"
   ]
  },
  {
   "cell_type": "code",
   "execution_count": null,
   "metadata": {},
   "outputs": [],
   "source": [
    "# Using list comprehension, a string join and a filter, we can create better names for the columns:\n",
    "df_grouped.columns = [\"_\".join(filter(None, x)) for x in df_grouped.columns]\n",
    "df_grouped.head(5)"
   ]
  },
  {
   "cell_type": "markdown",
   "metadata": {},
   "source": [
    "Mittels dem Befehl \".rename()\" können noch grundsätzlich Spalten umbenannt werden"
   ]
  },
  {
   "cell_type": "code",
   "execution_count": null,
   "metadata": {},
   "outputs": [],
   "source": [
    "# Umbennennen der class_first Spalte in class\n",
    "df_grouped = df_grouped.rename(columns = {'class_first': 'class'})\n",
    "df_grouped"
   ]
  }
 ],
 "metadata": {
  "kernelspec": {
   "display_name": "Python 3 (ipykernel)",
   "language": "python",
   "name": "python3"
  },
  "language_info": {
   "codemirror_mode": {
    "name": "ipython",
    "version": 3
   },
   "file_extension": ".py",
   "mimetype": "text/x-python",
   "name": "python",
   "nbconvert_exporter": "python",
   "pygments_lexer": "ipython3",
   "version": "3.8.12"
  }
 },
 "nbformat": 4,
 "nbformat_minor": 2
}
