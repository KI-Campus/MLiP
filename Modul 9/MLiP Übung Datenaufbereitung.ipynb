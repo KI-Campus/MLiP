{
 "cells": [
  {
   "cell_type": "markdown",
   "metadata": {},
   "source": [
    "# MLiP Übung Datenaufbereitung \n",
    "Kurs Maschinelles Lernen in der Produktion\n",
    "\n",
    "#### In diesem Notebook wird die Datenaufbereitung geübt. \n",
    "\n",
    "Für das Erstellen eines Klassifikators müssen die zwei Tabellen \"values\" und \"process\" (Messdaten (Datensatz \"values\") und Prozessdaten (Datensatz \"process\"))  mittels Joins in eine Tabelle zusammengefasst werden.\n",
    "\n",
    "Die wichtigsten Schritte von \"rohen\" Datensätzen zur anwendungsbereiten Tabelle werden hier durchgeführt:\n",
    "- Anzeige Länge, Spaltennamen und ersten X Zeilen\n",
    "- Diagramm Scatter-Matrix\n",
    "- Diagramm Boxplot\n",
    "- Duplikate entfernen\n",
    "- Einelne Spalten und Zeilen löschen\n",
    "- Merge mittels Left-, Right-, Inner- and Outer-Joins\n",
    "- Nan-Werte entfernen\n",
    "\n",
    "## TODO-List:\n",
    "\n",
    "1. Datensätze \"values\" und \"process\" importieren\n",
    "2. Übersicht über Datensätze\n",
    "3. Entferne Duplikate in \"values\"\n",
    "4. Entferne irrelevante Spalten in \"process\"\n",
    "5. Entferne offensichtliche Ausreißer in \"values\"\n",
    "6. \"Join\" der Tabellen values und process zu values_process\n",
    "7. Entferne NaN-Werte aus values_QM_process"
   ]
  },
  {
   "cell_type": "markdown",
   "metadata": {},
   "source": [
    "### 0. Bibliotheken importieren"
   ]
  },
  {
   "cell_type": "code",
   "execution_count": null,
   "metadata": {},
   "outputs": [],
   "source": [
    "# Importiere benötigte Bibliotheken\n",
    "import numpy as np\n",
    "import pandas as pd\n",
    "import matplotlib.pyplot as plt\n",
    "\n",
    "#Einstellungen für die Grafikausgabe\n",
    "style = 'seaborn-whitegrid'\n",
    "plt.style.use(style)\n",
    "plt.rcParams.update({'font.size': 14})  # Schriftgröße aller Textzeichen im Graphen"
   ]
  },
  {
   "cell_type": "markdown",
   "metadata": {},
   "source": [
    "### 1. Daten als pandas DataFrame importieren\n",
    "\n",
    "TODO:\n",
    "* Importiere die zwei benötigten Datensätze als pandas DataFrames .\n",
    "\n",
    "Notiz:\n",
    "* df_values soll die Daten von Daten_Messwerte.csv beinhalten\n",
    "* df_process soll die Daten von Daten_Aktoren.csv beinhalten"
   ]
  },
  {
   "cell_type": "code",
   "execution_count": null,
   "metadata": {},
   "outputs": [],
   "source": [
    "# Importiere Datensätze (values = Daten - Messwerte.csv, QM = Daten - QM.csv, process = Daten - Aktoren.csv)\n",
    "df_values = TODO  # Daten_Messwerte.csv\n",
    "df_process = TODO  # Daten_Aktoren.csv"
   ]
  },
  {
   "cell_type": "markdown",
   "metadata": {},
   "source": [
    "### 2. Sichtprüfung\n",
    "\n",
    "TODO:\n",
    "* Für eine erste Übersicht über die importierten Daten lassen wir uns die ersten X Zeilen jedes Datensatzes anzeigen.\n"
   ]
  },
  {
   "cell_type": "code",
   "execution_count": null,
   "metadata": {},
   "outputs": [],
   "source": [
    "# Ersten Zeilen des df_values\n",
    "TODO"
   ]
  },
  {
   "cell_type": "code",
   "execution_count": null,
   "metadata": {},
   "outputs": [],
   "source": [
    "# Ersten Zeilen des df_process\n",
    "TODO"
   ]
  },
  {
   "cell_type": "markdown",
   "metadata": {},
   "source": [
    "### 3. Entferne Duplikate (in \"values\")\n",
    "Der Datensatz df_values enthält Duplikate, diese müssen entfernt werden. \n",
    " \n",
    "TODO:\n",
    "- Finden der Duplikate (Der Befehl \"duplicated()\" erkennt, ob eine Zeile ein Duplikat ist)\n",
    "- Entfernen der Duplikate (Nutze den \".drop_duplicates()\" Befehl)\n",
    "- Lasse zur Kontrolle die Länge des Datensatzes davor und danach anzeigen (len(  ))"
   ]
  },
  {
   "cell_type": "code",
   "execution_count": null,
   "metadata": {},
   "outputs": [],
   "source": [
    "# Überprüfung, ob Duplikate existieren in Dataframe df_values\n",
    "# Hinweis: df.duplicated() liefert, ob eine Zeile ein Duplikat ist oder nicht. \n",
    "# Darüber lassen sich die Duplikatszeilen anzeigen lassen. \n",
    "# Für DataFrame df: df[df.duplicated()]\n",
    "TODO"
   ]
  },
  {
   "cell_type": "code",
   "execution_count": null,
   "metadata": {},
   "outputs": [],
   "source": [
    "# Länge des DataFrames anzeigen lassen \n",
    "# len() ist eine Funktion, die von vielen Objekten auch von DataFrame die Länge zurückgibt\n",
    "# len(Objekt)\n",
    "TODO"
   ]
  },
  {
   "cell_type": "code",
   "execution_count": null,
   "metadata": {},
   "outputs": [],
   "source": [
    "# Erstelle eine neue Version von df_values ohne Duplikate\n",
    "# df = df.drop_duplicates()\n",
    "TODO"
   ]
  },
  {
   "cell_type": "code",
   "execution_count": null,
   "metadata": {},
   "outputs": [],
   "source": [
    "# Länge des DataFrames anzeigen lassen \n",
    "# len() ist eine Funktion, die von vielen Objekten auch von DataFrame die Länge zurückgibt\n",
    "# len(Objekt)\n",
    "TODO"
   ]
  },
  {
   "cell_type": "markdown",
   "metadata": {},
   "source": [
    "### 4. Entferne irrelevante Spalten (in \"process\")\n",
    "\n",
    "Der Datensatz df_process enthält noch irrelevante Spalten. \n",
    "\n",
    "TODO: \n",
    "- Sichtprüfung mittels Scatter-Matrix, um irrelevante Spalten der Datensätze zu finden (Notiz seaborn pairplot oder pandas.plotting scatter_matrix)\n",
    "- Entferne die irrelevanten Spalten aus dem Datensatz (\".drop()\" Befehl)\n",
    "- Lasse zur Kontrolle die Spalten des Datensatz davor und danach anzeigen (\".columns\" Befehl)"
   ]
  },
  {
   "cell_type": "code",
   "execution_count": null,
   "metadata": {},
   "outputs": [],
   "source": [
    "# Scatter-Matrix für df_process\n",
    "TODO"
   ]
  },
  {
   "cell_type": "code",
   "execution_count": null,
   "metadata": {},
   "outputs": [],
   "source": [
    "# Anzeigen aller Spalten von df_process (Kontrolle)\n",
    "# Tipp: Nutze den \".columns\" Befehl\n",
    "TODO"
   ]
  },
  {
   "cell_type": "code",
   "execution_count": null,
   "metadata": {},
   "outputs": [],
   "source": [
    "# Entferne irrelevante Spalten mit Drop-Befehl von df_process\n",
    "# df = df.drop(columns=['column_name'])\n",
    "TODO"
   ]
  },
  {
   "cell_type": "code",
   "execution_count": null,
   "metadata": {},
   "outputs": [],
   "source": [
    "# Anzeigen aller Spalten von df_process (Kontrolle)\n",
    "# Tipp: Nutze den \".columns\" Befehl\n",
    "TODO"
   ]
  },
  {
   "cell_type": "markdown",
   "metadata": {},
   "source": [
    "### 5. Entferne offensichtliche Ausreißer (nur in \"values\")\n",
    "Die Prozesswerte sollten für die maximale relative Dicke kleiner 100 sein.  \n",
    "Die Verschiebung in X und Y ist negativ und sollte nicht mehr als 25 betragen.  \n",
    "Für die Verlagerung und Höhe sollten die Werte im Bereich von 1,5 bis 6 liegen.\n",
    "TODO:\n",
    "- Sichtprüfung aller Spalten von \"values\" (\".boxplot()\" Befehl)\n",
    "- Erstelle einen neuen Datensatz aus allen relevanten Zeilen des Datensatzes \n",
    "- Lasse zur Kontrolle die Länge des Datensatzes davor und danach anzeigen (len(  ))"
   ]
  },
  {
   "cell_type": "code",
   "execution_count": null,
   "metadata": {},
   "outputs": [],
   "source": [
    "# Boxplot für Spalten von df_values\n",
    "# df.boxplot(figsize=(12, 6))\n",
    "TODO"
   ]
  },
  {
   "cell_type": "code",
   "execution_count": null,
   "metadata": {},
   "outputs": [],
   "source": [
    "# Länge des DataFrames anzeigen lassen \n",
    "# len() ist eine Funktion, die von vielen Objekten auch von DataFrame die Länge zurückgibt\n",
    "# len(Objekt)\n",
    "TODO"
   ]
  },
  {
   "cell_type": "code",
   "execution_count": null,
   "metadata": {},
   "outputs": [],
   "source": [
    "# Wähle Zeilen nach Bedingung\n",
    "# df_xy = df_xy[df_xy.column_name < number] \n",
    "# Achtung der alte DataFrame wird mit neuem überschrieben!\n",
    "TODO"
   ]
  },
  {
   "cell_type": "code",
   "execution_count": null,
   "metadata": {},
   "outputs": [],
   "source": [
    "# Länge des DataFrames anzeigen lassen \n",
    "# len() ist eine Funktion, die von vielen Objekten auch von DataFrame die Länge zurückgibt\n",
    "# len(Objekt)\n",
    "TODO"
   ]
  },
  {
   "cell_type": "code",
   "execution_count": null,
   "metadata": {},
   "outputs": [],
   "source": [
    "# Boxplot für Spalten von df_values (Kontrolle)\n",
    "TODO"
   ]
  },
  {
   "cell_type": "markdown",
   "metadata": {},
   "source": [
    "### 5. \"Join\" der Tabellen values und process\n",
    "\n",
    "Für den Klassifikator sollen als Input die Messwerte und die Prozessdaten verwendet werden.\n",
    "Hierfür muss die Tabelle \"values\" zur Tabelle \"process\" gemerged werden.\n",
    "\n",
    "In dem neuen Datensatz, dem Join von \"values\" und \"process\" sollen also nur die Datenpunkte vorkommen für welche in beiden Tabellen Daten vorliegen. Welcher Join muss deshalb verwendet werden?\n",
    "\n",
    "TODO:\n",
    "- Lasse zur Kontrolle die Länge des Datensätze davor und danach anzeigen (len(  ))\n",
    "- Bestimme welcher Join durchgeführt werden soll\n",
    "- Führe den Merge von df_process und df_values aus. "
   ]
  },
  {
   "cell_type": "code",
   "execution_count": null,
   "metadata": {},
   "outputs": [],
   "source": [
    "# Anzeigen der Länge von df_values_QM, df_process (Kontrolle)\n",
    "# len() ist eine Funktion, die von vielen Objekten auch von DataFrame die Länge zurückgibt\n",
    "# len(Objekt)\n",
    "TODO"
   ]
  },
  {
   "cell_type": "code",
   "execution_count": null,
   "metadata": {},
   "outputs": [],
   "source": [
    "# Erstelle neue Tabelle (df_values_QM_process) aus Merge von df_process und df_values_QM_process\n",
    "# df = pd.merge(df_left, df_right, how='left, right, inner, outer', on=?)\n",
    "# Achtung, Angabe der join Art - how= - und der key Variablen - on= - notwendig.\n",
    "# Die Key Variable gibt, an welche Zeilen zusammengehören\n",
    "df_values_process = TODO"
   ]
  },
  {
   "cell_type": "code",
   "execution_count": null,
   "metadata": {},
   "outputs": [],
   "source": [
    "# Anzeigen der Länge von df_values_QM_process (Kontrolle)\n",
    "# len() ist eine Funktion, die von vielen Objekten auch von DataFrame die Länge zurückgibt\n",
    "# len(Objekt)\n",
    "TODO"
   ]
  },
  {
   "cell_type": "code",
   "execution_count": null,
   "metadata": {},
   "outputs": [],
   "source": [
    "# Anzeigen aller Spalten von df_values_QM_process (Kontrolle) \n",
    "# Tipp: Nutze den \".columns\" Befehl\n",
    "TODO"
   ]
  },
  {
   "cell_type": "code",
   "execution_count": null,
   "metadata": {},
   "outputs": [],
   "source": [
    "# Anzeigen der ersten Zeilen von df_values_QM_process (Kontrolle)\n",
    "TODO"
   ]
  },
  {
   "cell_type": "markdown",
   "metadata": {},
   "source": [
    "### 6. Entferne NaN-Werte\n",
    "Der erzeugte DataFrame df_values_process enthält noch NaN Werte, vgl. Point 1 Verschiebung_x. \n",
    "\n",
    "TODO: \n",
    "- Lasse zur Kontrolle die Länge des Datensätze davor und danach anzeigen (len(  ))\n",
    "- Entferne alle Zeilen, die fehlenden Werte besitzen (\".dropna()\" Befehl)"
   ]
  },
  {
   "cell_type": "code",
   "execution_count": null,
   "metadata": {},
   "outputs": [],
   "source": [
    "# Länge von df_values_process (Kontrolle)\n",
    "TODO"
   ]
  },
  {
   "cell_type": "code",
   "execution_count": null,
   "metadata": {},
   "outputs": [],
   "source": [
    "# Erstelle Kopie von df_values_process ohne NaN-Zeilen\n",
    "# df = df.dropna()\n",
    "TODO"
   ]
  },
  {
   "cell_type": "code",
   "execution_count": null,
   "metadata": {},
   "outputs": [],
   "source": [
    "# Länge von df_values__process (Kontrolle)\n",
    "TODO"
   ]
  },
  {
   "cell_type": "code",
   "execution_count": null,
   "metadata": {},
   "outputs": [],
   "source": [
    "# Anzeigen der ersten Zeilen von df_values_process (Kontrolle)\n",
    "TODO"
   ]
  }
 ],
 "metadata": {
  "kernelspec": {
   "display_name": "Python 3 (ipykernel)",
   "language": "python",
   "name": "python3"
  },
  "language_info": {
   "codemirror_mode": {
    "name": "ipython",
    "version": 3
   },
   "file_extension": ".py",
   "mimetype": "text/x-python",
   "name": "python",
   "nbconvert_exporter": "python",
   "pygments_lexer": "ipython3",
   "version": "3.8.12"
  }
 },
 "nbformat": 4,
 "nbformat_minor": 4
}
