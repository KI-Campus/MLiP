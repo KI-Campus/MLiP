{
 "cells": [
  {
   "cell_type": "markdown",
   "metadata": {},
   "source": [
    "# MLiP Lineare Regression am Beispiel Presshärten\n",
    "Kurs Maschinelles Lernen in der Produktion  \n",
    "\n",
    "Ziel des Notebooks ist die Anwendung der linearen Regression. Dabei soll der Zusammenhang zwischen den 7 Prozess-Parametern und dem daraus resultierenden Ziel-Parameter (Bauteilhärte) bestimmt werden.\n",
    "\n",
    "### Prozessschritte Data-Mining:"
   ]
  },
  {
   "cell_type": "markdown",
   "metadata": {},
   "source": [
    "![Bild konnte nicht geladen werden! 1. Daten erfassen - 2. Daten erkunden - 3. Daten vorbereiten - 4. Modelle bilden - 5. Modelle validieren - 6. Modell testen](Prozess_Modellentwicklung_v2.png \"Prozess Modellentwicklung\")"
   ]
  },
  {
   "cell_type": "markdown",
   "metadata": {},
   "source": [
    "### 0. Bibliotheken importieren"
   ]
  },
  {
   "cell_type": "code",
   "execution_count": null,
   "metadata": {},
   "outputs": [],
   "source": [
    "# Importiere benötigte Bibliotheken\n",
    "import numpy as np\n",
    "import pandas as pd\n",
    "\n",
    "%matplotlib inline\n",
    "import matplotlib.pyplot as plt\n",
    "\n",
    "#Einstellungen für die Grafikausgabe\n",
    "style = 'seaborn-whitegrid'\n",
    "plt.style.use(style)\n",
    "plt.rcParams.update({'font.size': 14})  # Schriftgröße aller Textzeichen im Graphen"
   ]
  },
  {
   "cell_type": "markdown",
   "metadata": {},
   "source": [
    "TODO:\n",
    "* Wähle eine Zahl zwischen 1 und 100 für die Generierung deiner spezifischen Zufallszahlen my_seed=\n",
    "\n",
    "(Wähle für alle Notebooks in allen Übungen immer die gleiche Zahl (z.B. den Tag deines Geburtstags), dann sind die Ergebnisse der verschiedenen Machine-Learning-Verfahren vergleichbar da dann alle Notebooks mit der \"gleichen\" Folge an Zufallszahlen arbeiten)\n",
    "\n",
    "AUSGABE:\n",
    "* Gewählte Zufallszahl"
   ]
  },
  {
   "cell_type": "code",
   "execution_count": null,
   "metadata": {},
   "outputs": [],
   "source": [
    "# Erstelle Seed für eigene Zufallszahlen\n",
    "my_seed = TODO\n",
    "\n",
    "# Ausgabe gewählte Zufallszahlen\n",
    "print(\"\\nGewählte Zahl für Zufallszahlen: \\t\" + str(my_seed))"
   ]
  },
  {
   "cell_type": "markdown",
   "metadata": {},
   "source": [
    "## 1. Daten erfassen - Daten importieren\n",
    "Import der Daten mittels der read_csv-Funktion von Pandas.  \n",
    "\n",
    "TODO: \n",
    "* Um die Daten einzulesen, muss der Funktion read_csv, der Name der Datei 'Daten_Presshärten.csv' übergeben werden. \n",
    "* Achtung! Der Name muss mit Anführungszeichen also ' oder \" übergeben werden, da die Funktion den Namen als Zeichenkette erwartet, also 'Daten_Presshärten.csv' oder \"Daten_Presshärten.csv\"\n",
    "\n",
    "Ergebnis: \n",
    "* Eingelesene und in Python als DataFrame verfügbare Daten"
   ]
  },
  {
   "cell_type": "code",
   "execution_count": null,
   "metadata": {},
   "outputs": [],
   "source": [
    "# Lade Datensatz\n",
    "df = pd.read_csv(TODO)\n",
    "print('Daten eingelesen')"
   ]
  },
  {
   "cell_type": "markdown",
   "metadata": {},
   "source": [
    "### 2.1 Daten erkunden - Ausgabe Datensatz\n",
    "Ziel der Datenerkundung ist es einen Einblick in die Daten zu bekommen. Wir wollen verstehen wie der Datensatz aufgebaut ist.  \n",
    "* Welche Einflussgrößen gibt es?  \n",
    "* Wie sind die Werte der einzelnen Einflussgrößen verteilt? \n",
    "* Gibt es Auffälligkeiten bei den Daten? \n",
    "* Gibt es Ausreißer? \n",
    "* Kann man einen Zusammenhang zwischen der Zielgröße und den Daten erkennen? \n",
    "* Welche Art von Modell könnte geeignet sein? \n",
    "\n",
    "TODO: \n",
    "* Schreibe 10 - oder eine andere Zahl - in die Code-Zeile, um dir die letzten 10 Zeilen das Datensatzes anzuzeigen\n",
    "\n",
    "AUSGABE:\n",
    "* Tabelle mit ersten Zeilen das Datensatzes"
   ]
  },
  {
   "cell_type": "code",
   "execution_count": null,
   "metadata": {},
   "outputs": [],
   "source": [
    "# Ausgabe der Daten in tabellarischer Form\n",
    "df.tail(TODO)"
   ]
  },
  {
   "cell_type": "markdown",
   "metadata": {},
   "source": [
    "### 2.2 Daten erkunden - Datensatz spaltenweise beschreiben\n",
    "Berechnung von statistischen Kennzahlen, die die numerischen Daten beschreiben"
   ]
  },
  {
   "cell_type": "code",
   "execution_count": null,
   "metadata": {},
   "outputs": [],
   "source": [
    "df.describe()"
   ]
  },
  {
   "cell_type": "markdown",
   "metadata": {},
   "source": [
    "Erkenntnisse: \n",
    "* Die Anzahl der Beipsiele (count) ist immer gleich, somit gibt es keine fehlende Werte. \n",
    "* Die Streuung und der Range (Breite des Wertebereichs) sind jeweils gleich, zwischen 0 und 1  \n",
    "=> Normierte Daten liegen von\n",
    "* Keine Ausreißer erkennbar"
   ]
  },
  {
   "cell_type": "markdown",
   "metadata": {},
   "source": [
    "### 2.2 Daten erkunden - Streudiagramme und Histogramme anzeigen\n",
    "\n",
    "Für die Visualisierung von Datensätzen für die Regression empfiehlt sich Streudiagramm Matrix Plot. Dabei handelt es sich um eine Scatter-Matrix, bei der die Datenpunkte abgebildet sind.  \n",
    "Für uns sind zum einen die Histrogramme auf der Hauptdiagonalen und die Zeile der Zielgröße von Interesse.  \n",
    "Bei den Histogrammen erkennen wir die Verteilung der Daten.  \n",
    "Bei der Zeile der Zielgröße können wir - wenn möglich - erkennen, ob und welchen Einfluss die einzelnen Einflussgrößen haben.  \n",
    "\n",
    "Achtung:\n",
    "* zu viele Spalten machen die Darstellung unübersichtlich. Hier empfiehlt es sich eine Auswahl der Spalten des DataFrames vorzunehmen. \n",
    "* Ist der DataFrame zu groß, kann Erstellung des Plots mitunter sehr lang dauern. Hier dann lieber eine zufällige Auswahl der Datenpunkte auswählen."
   ]
  },
  {
   "cell_type": "code",
   "execution_count": null,
   "metadata": {},
   "outputs": [],
   "source": [
    "# Zeige Streudiagramm aller Variablenkombinationen an\n",
    "from pandas.plotting import scatter_matrix\n",
    "\n",
    "scatter_matrix(df, alpha=0.2, figsize=(16, 16))\n",
    "plt.show()"
   ]
  },
  {
   "cell_type": "markdown",
   "metadata": {},
   "source": [
    "Die Daten sind bei den Einflussgrößen immer über den gesamten Raum verteilt, weil es sich um simulierte und zusätzlich normierte Daten handelt.  \n",
    "Bei der Baulteilhärte sehen wir einen typischeren Verlauf des Histogramms. Die Werte konzentrieren sich im mittleren Bereich, an den Rändern gibt es nur wenige Datenpunkte. Somit waren die Grundeinstellungen ganz gut bzw. eng gefasst, so dass es keine wirklich schlechten Ergebnisse gibt.  \n",
    "In der letzten Zeile sieht man deutlich, dass die Transportdauer einen Einfluss auf die Bauteilhärte hat. Je größer die Transportdauer desto kleiner ist die Bauteilhärte.  \n",
    "Einen umgekehrten Effekt zeigt sich in abgeschwächter Form bei der Blechtemperatur.   \n",
    "Für die anderen Größen ist kein klarer Zusammenhang sichtbar.  "
   ]
  },
  {
   "cell_type": "markdown",
   "metadata": {},
   "source": [
    "## 3. Daten vorbereiten\n",
    "Für diese Aufgabe ist nur ein Schritt notwendig:\n",
    "* Die Aufteilung in Trainings- und Testdaten"
   ]
  },
  {
   "cell_type": "markdown",
   "metadata": {},
   "source": [
    "### 3.1 Daten vorbereiten - Aufteilung in Trainings- und Testdaten sowie X und y\n",
    "Meist bekommt man einen Datensatz und muss die Aufteilung der Daten in Trainings- und Testdaten selbst vornehmen.   \n",
    "Am einfachsten geht das mit der Funktion train_test_split.  \n",
    "Diese teilt gleichzeitig die Eingangsdaten (X) und Zielgröße (y) auf.  \n",
    "Wichtige Einstellungen:  \n",
    "* Split festlegen, es empfiehlt sich ein Anteil der Trainingsdaten von 0.6 - 0.9. Je nachdem wie groß der Datensatz ist. \n",
    "* Für die Reproduzierbarkeit der Ergebnisse, sollte der random_state gesetzt werden, da die Auswahl zufällig erfolgt. \n",
    "\n",
    "TODO:\n",
    "* Setze für train_size einen Wert zwischen 0.6 und 0.9 ein\n",
    "* Beispiel: Ein Wert von 0.8 bedeutet der Datensatz wird in 80% Trainingsdaten und 20% Testdaten unterteilt.\n",
    "\n",
    "AUSGABE:\n",
    "* Größe der Datensätze\n",
    "* Variablen in X und in y"
   ]
  },
  {
   "cell_type": "code",
   "execution_count": null,
   "metadata": {
    "scrolled": true
   },
   "outputs": [],
   "source": [
    "# Verhältnis Trainings- und Testdaten\n",
    "train_size = TODO\n",
    "\n",
    "# Teile Datensatz in Trainings- und Testdatensatz auf\n",
    "from sklearn.model_selection import train_test_split\n",
    "\n",
    "X_train, X_test, y_train, y_test = train_test_split(\n",
    "    df.drop(columns=[\"Bauteilhärte\"]),\n",
    "    df[\"Bauteilhärte\"],\n",
    "    test_size=(1 - train_size),\n",
    "    random_state=my_seed)\n",
    "\n",
    "# Ausgabe Datensätze und Anzahl Datenpunkte\n",
    "print(\"Anzahl Traingsdaten: \\t\"  + str(len(y_train)) + \" / \"  + str(len(df)) \n",
    "      + \" \\t(\" + str(\"%.2f\" % (100 * len(y_train) / len(df))) + \"%)\")\n",
    "print(\"Anzahl Testdaten: \\t\" + str(len(y_test)) + \" / \"   + str(len(df))\n",
    "      + \" \\t(\" + str(\"%.2f\" % (100 * len(y_test) / len(df)))+ \"%)\")\n"
   ]
  },
  {
   "cell_type": "markdown",
   "metadata": {},
   "source": [
    "## 4. Modelle trainieren\n",
    "In diesem Schritt wird das Modell imporiert, erstellt und trainiert"
   ]
  },
  {
   "cell_type": "markdown",
   "metadata": {},
   "source": [
    "### 4.1 Modelle bilden - Modell importieren und erstellen\n",
    "Mehr Infos zum Model Beschreibung der Hyperparameter:  \n",
    "http://scikit-learn.org/stable/modules/generated/sklearn.linear_model.LinearRegression.html#sklearn.linear_model.LinearRegression "
   ]
  },
  {
   "cell_type": "code",
   "execution_count": null,
   "metadata": {},
   "outputs": [],
   "source": [
    "# Ausgabe möglicher Hyperparameter\n",
    "from sklearn.linear_model import LinearRegression\n",
    "\n",
    "# Erstellen des Modells\n",
    "model = LinearRegression()"
   ]
  },
  {
   "cell_type": "markdown",
   "metadata": {},
   "source": [
    "### 4.2 Modelle trainieren\n",
    "\n",
    "Das Modell wird mit den Trainingsdaten (X_train unsd y_train) trainiert\n",
    "\n",
    "TODO:\n",
    "* Setze die Trainingsdaten in die .fit-Funktion ein (X_train und y_train) \n",
    "\n",
    "AUSGABE:\n",
    "* trainiertes lineares Regressionsmodell"
   ]
  },
  {
   "cell_type": "code",
   "execution_count": null,
   "metadata": {},
   "outputs": [],
   "source": [
    "# Trainieren des Lineares Regressionsmodells\n",
    "\n",
    "model = model.fit(TODO, TODO)"
   ]
  },
  {
   "cell_type": "markdown",
   "metadata": {},
   "source": [
    "### 4.3 Modelle trainieren - bewerten des Trainings\n",
    "\n",
    "Wir berechnen die Kennzahlen auch für die Trainingsdaten: \n",
    "* damit wir erkennen, wie gut das Modell die Trainingsdaten erlernen kann\n",
    "* damit wir die Kennzahlen vom Training später mit den Kennwerten von der Validierung bzw. Test vergleichen können. \n",
    "\n",
    "#### MAE \n",
    "\n",
    "TODO:\n",
    "* Setze X_train in die .predict-Funktion ein, um eine Vorhersage für die Trainingsdaten zu berechnen \n",
    "* Übergebe der mean_absolute_error-Funktion y_train und y_train_pred, um den MAE für die Trainingsdaten zu berechnen. \n",
    "\n",
    "AUSGABE:\n",
    "* MAE des Modells für die Trainingsdaten"
   ]
  },
  {
   "cell_type": "code",
   "execution_count": null,
   "metadata": {},
   "outputs": [],
   "source": [
    "# Berechnung der Accuracy für die Trainingsdaten\n",
    "from sklearn.metrics  import mean_absolute_error\n",
    "\n",
    "# Vorhersage der Trainingsdaten mit Modell\n",
    "y_train_pred = model.predict(TODO)\n",
    "\n",
    "# Berechnung des MAE\n",
    "print('MAE für die Trainingsdaten:')\n",
    "mean_absolute_error(TODO, TODO) \n",
    "# Hinweis: in dieser Kurzform ist es wichtig, erst die wahren Werte und dann die vorhersagten Werten"
   ]
  },
  {
   "cell_type": "markdown",
   "metadata": {},
   "source": [
    "#### RMSE\n",
    "\n",
    "TODO:\n",
    "* Setze X_train in die .predict-Funktion ein, um eine Vorhersage für die Trainingsdaten zu berechnen \n",
    "* Übergebe der mean_squared_error-Funktion y_train und y_train_pred, um den MSE für die Trainingsdaten zu berechnen. \n",
    "* Damit wir den RMSE erhalten müssen wir noch die Wurzel ziehen.\n",
    "\n",
    "AUSGABE:\n",
    "* RMSE des Modells für die Trainingsdaten"
   ]
  },
  {
   "cell_type": "code",
   "execution_count": null,
   "metadata": {},
   "outputs": [],
   "source": [
    "# Berechnung der Accuracy für die Trainingsdaten\n",
    "from sklearn.metrics  import mean_squared_error\n",
    "\n",
    "print('RMSE für die Trainingsdaten:')\n",
    "np.sqrt(mean_squared_error(TODO, TODO))"
   ]
  },
  {
   "cell_type": "markdown",
   "metadata": {},
   "source": [
    "### 5. Validieren der Modelle - entfällt\n",
    "\n",
    "Dieser Schritt ist nur nötig, wenn mehrere Modelle erstellt werden."
   ]
  },
  {
   "cell_type": "markdown",
   "metadata": {},
   "source": [
    "## 6. Modell testen & anwenden"
   ]
  },
  {
   "cell_type": "markdown",
   "metadata": {},
   "source": [
    "### 6.1 Modell testen & anwenden - Berechnung der Modellvorhersage und Kennzahlen auf den Testdaten\n",
    "\n",
    "Wir berechnen nun die Kennzahlen für die Testdaten: \n",
    "* damit wir abschließend bewerten können, wie gut das Modell bei unbekannten Daten wirklich funktioniert\n",
    "* damit wir erkennen, wie gut das Modell sich später in der Anwendung bewähren wird\n",
    "\n",
    "#### MAE\n",
    "\n",
    "TODO:\n",
    "* Setze X_test in die .predict-Funktion ein, um eine Vorhersage für die Trainingsdaten zu berechnen \n",
    "* Übergebe der mean_absolute_error-Funktion y_test und y_test_pred, um den MAE auf den Testdaten zu berechnen. \n",
    "\n",
    "AUSGABE:\n",
    "* MAE des Modells für die Testdaten"
   ]
  },
  {
   "cell_type": "code",
   "execution_count": null,
   "metadata": {},
   "outputs": [],
   "source": [
    "# Vorhersage mit Modell anhand den Testdaten\n",
    "y_test_pred = model.predict(TODO)\n",
    "\n",
    "# Berechnug des MAE für die Testdaten\n",
    "print('MAE für die Testdaten:')\n",
    "mean_absolute_error(TODO, TODO) \n",
    "# Hinweis: in dieser Kurzform ist es wichtig, erst die wahren Werte und dann die vorhersagten Werten"
   ]
  },
  {
   "cell_type": "markdown",
   "metadata": {},
   "source": [
    "#### RMSE\n",
    "\n",
    "TODO:\n",
    "* Übergebe der mean_absolute_error-Funktion y_test und y_test_pred, um den RMSE auf den Testdaten zu berechnen. \n",
    "\n",
    "AUSGABE:\n",
    "* RMSE des Modells für die Testdaten"
   ]
  },
  {
   "cell_type": "code",
   "execution_count": null,
   "metadata": {},
   "outputs": [],
   "source": [
    "# Berechnung des RMSE für die Testdaten\n",
    "print('RMSE für die Testsdaten:')\n",
    "np.sqrt(mean_squared_error(TODO, TODO))"
   ]
  },
  {
   "cell_type": "markdown",
   "metadata": {},
   "source": [
    "### 6.2 Modell testen & anwenden - Grafische Bewertung der Modellgüte\n",
    "\n",
    "Visualisierung der Modell-Vorhersage über den realen Werten.\n",
    "\n",
    "AUSGABE:\n",
    "- Diagramm: Bauteilhärte über vorhergesagter Bauteilhärte"
   ]
  },
  {
   "cell_type": "code",
   "execution_count": null,
   "metadata": {},
   "outputs": [],
   "source": [
    "# Ausgabe Graph\n",
    "min_test, max_test = y_test.min(), y_test.max()\n",
    "fig = plt.figure(figsize=(9, 8))\n",
    "plt.plot(y_test, y_test_pred, \"o\", alpha=0.4)\n",
    "plt.plot([min_test, max_test], [min_test, max_test], \"--\", c=(0, 0, 0))\n",
    "plt.xlim(min_test - 0.1 * (max_test - min_test), max_test + 0.1 * (max_test - min_test))\n",
    "plt.ylim(min_test - 0.1 * (max_test - min_test), max_test + 0.1 * (max_test - min_test))\n",
    "plt.xlabel(\"reale Bauteilhärte\")\n",
    "plt.ylabel(\"vorhergesagte Bauteilhärte\")\n",
    "plt.title(\"Lineare Regression - Testdatensatz\")\n",
    "plt.show()"
   ]
  },
  {
   "cell_type": "markdown",
   "metadata": {},
   "source": [
    "## Bonus: Erkenntnisse aus dem Modell\n",
    "\n",
    "In diesem Abschnitt werden die Gewichte der Einflussgrößen des Modells visualisiert.  \n",
    "Damit wird sichtbar gemacht, welche Einflussgrößen den größten Einfluss auf die Bauteilhärte haben. "
   ]
  },
  {
   "cell_type": "code",
   "execution_count": null,
   "metadata": {},
   "outputs": [],
   "source": [
    "# Ausgabe Regressionskoeffizienten als Balkendiagramm\n",
    "fig = plt.figure(figsize=(16, 6))\n",
    "plt.bar(list(X_train), model.coef_, align=\"center\")\n",
    "plt.title(\"Einfluss der Variablen auf die Bauteilhärte\")\n",
    "plt.show()"
   ]
  },
  {
   "cell_type": "markdown",
   "metadata": {},
   "source": [
    "Transportdauer und Blechtemperatur haben den größten Einfluss.  \n",
    "Der Einfluss der Formtemperatur ist ebenso klar ersichtlich.   \n",
    "Bei den anderen Größen wird es schwieriger, den Zusammenhang zu erkennen. "
   ]
  },
  {
   "cell_type": "code",
   "execution_count": null,
   "metadata": {},
   "outputs": [],
   "source": []
  }
 ],
 "metadata": {
  "file_extension": ".py",
  "kernelspec": {
   "display_name": "Python (MLiP)",
   "language": "python",
   "name": "python-mlip"
  },
  "language_info": {
   "codemirror_mode": {
    "name": "ipython",
    "version": 3
   },
   "file_extension": ".py",
   "mimetype": "text/x-python",
   "name": "python",
   "nbconvert_exporter": "python",
   "pygments_lexer": "ipython3",
   "version": "3.7.4"
  },
  "mimetype": "text/x-python",
  "name": "python",
  "npconvert_exporter": "python",
  "pygments_lexer": "ipython3",
  "version": 3
 },
 "nbformat": 4,
 "nbformat_minor": 4
}
