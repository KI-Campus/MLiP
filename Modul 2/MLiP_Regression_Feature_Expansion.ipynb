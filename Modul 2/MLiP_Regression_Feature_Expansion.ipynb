{
 "cells": [
  {
   "cell_type": "markdown",
   "metadata": {},
   "source": [
    "# MLiP - Regression - Feature Expansions\n",
    "Kurs Maschinelles Lernen in der Produktion  \n",
    "\n",
    "#### In diesem Notebook wird die Feature Expansion am Beispiel des Verfahren Regression betrachtet."
   ]
  },
  {
   "cell_type": "markdown",
   "metadata": {},
   "source": [
    "### 0. Bibliotheken importieren"
   ]
  },
  {
   "cell_type": "code",
   "execution_count": null,
   "metadata": {},
   "outputs": [],
   "source": [
    "# Importiere benötigte Bibliotheken\n",
    "import numpy as np\n",
    "import pandas as pd\n",
    "import matplotlib.pyplot as plt\n",
    "import matplotlib.cm as cm\n",
    "from mpl_toolkits.mplot3d import Axes3D\n",
    "\n",
    "%matplotlib inline\n",
    "style = 'seaborn-whitegrid'\n",
    "plt.style.use(style)\n",
    "plt.rcParams.update({'font.size': 14})  # Schriftgröße aller Textzeichen im Graphen"
   ]
  },
  {
   "cell_type": "markdown",
   "metadata": {},
   "source": [
    "### 1. Daten erfassen"
   ]
  },
  {
   "cell_type": "code",
   "execution_count": null,
   "metadata": {},
   "outputs": [],
   "source": [
    "# Erzeuge Datensatz\n",
    "df = pd.DataFrame({'X': np.array([-2, -1, 0, 1, 2]),\n",
    "                   'y': np.array([3, 2, 3, 6, 11])\n",
    "                  })\n",
    "print('Daten erfolgreich eingelesen')\n"
   ]
  },
  {
   "cell_type": "markdown",
   "metadata": {},
   "source": [
    "### 2. Daten erkunden"
   ]
  },
  {
   "cell_type": "code",
   "execution_count": null,
   "metadata": {},
   "outputs": [],
   "source": [
    "# Daten erkunden                 \n",
    "fig = plt.figure(figsize=(4, 4))\n",
    "plt.plot(df['X'], df['y'], 'o')\n",
    "plt.xlabel('X')\n",
    "plt.ylabel('y')\n",
    "plt.title('Datensatz')\n",
    "plt.show()\n",
    "\n",
    "print('Datensatz')\n",
    "df"
   ]
  },
  {
   "cell_type": "markdown",
   "metadata": {},
   "source": [
    "### 3. Daten vorbereiten"
   ]
  },
  {
   "cell_type": "code",
   "execution_count": null,
   "metadata": {},
   "outputs": [],
   "source": [
    "# Daten vorbereiten\n",
    "X_train = df[['X']]\n",
    "y_train = df[['y']]\n",
    "#Erzeuge Gitter für Ausgabe\n",
    "X_grid = np.linspace(-2.0, 2.0, 100).reshape(100,1)\n",
    "print('Schritt erfolgreich')"
   ]
  },
  {
   "cell_type": "markdown",
   "metadata": {},
   "source": [
    "### 4. Modelle bilden"
   ]
  },
  {
   "cell_type": "code",
   "execution_count": null,
   "metadata": {},
   "outputs": [],
   "source": [
    "# Regressionsgerade und Vorhersage\n",
    "# Importieren der Funktion: LineareRegression aus dem Modul linear_model\n",
    "from sklearn.linear_model import LinearRegression\n",
    "\n",
    "# Modell erstellen\n",
    "regr = LinearRegression()\n",
    "# Trainieren des Lineares Regressionsmodells\n",
    "regr = regr.fit(X_train, y_train)\n",
    "print('Training erfolgreich')"
   ]
  },
  {
   "cell_type": "markdown",
   "metadata": {},
   "source": [
    "### 5. Modelle validieren"
   ]
  },
  {
   "cell_type": "code",
   "execution_count": null,
   "metadata": {},
   "outputs": [],
   "source": [
    "# Ausgabe Graphen\n",
    "y_lin_pred = regr.predict(X_grid)  \n",
    "\n",
    "plt.plot(df['X'], df['y'], 'o')\n",
    "plt.xlabel('X')\n",
    "plt.ylabel('y')\n",
    "plt.title('Datensatz mit Modelgeraden')\n",
    "plt.plot(X_grid, y_lin_pred)\n",
    "plt.show()"
   ]
  },
  {
   "cell_type": "markdown",
   "metadata": {},
   "source": [
    "### Basisraum erweitern"
   ]
  },
  {
   "cell_type": "code",
   "execution_count": null,
   "metadata": {},
   "outputs": [],
   "source": [
    "df2 = df\n",
    "df2[['phi_2']] = df[['X']] * df[['X']]\n",
    "df2 = df.rename(index=str, columns={\"X\": \"phi_1\"})\n",
    "df2"
   ]
  },
  {
   "cell_type": "code",
   "execution_count": null,
   "metadata": {
    "scrolled": true
   },
   "outputs": [],
   "source": [
    "%matplotlib notebook\n",
    "\n",
    "fig = plt.figure(figsize=(10, 10))\n",
    "ax = fig.add_subplot(111, projection='3d')\n",
    "ax.scatter(df2['phi_1'], df2['phi_2'], df2['y'], 'o', c='k')\n",
    "ax.text2D(0.05, 0.95, \"Datensatz erweitert\", transform=ax.transAxes)\n",
    "ax.set_xlabel('phi_1')\n",
    "ax.set_ylabel('phi_2')\n",
    "ax.set_zlabel('y')\n",
    "plt.show()"
   ]
  },
  {
   "cell_type": "code",
   "execution_count": null,
   "metadata": {
    "scrolled": true
   },
   "outputs": [],
   "source": [
    "# Daten Vorbereiten\n",
    "X2_train = df2.drop(columns=['y'])\n",
    "y_train = df2[['y']]\n",
    "\n",
    "# Trainieren des Lineares Regressionsmodells\n",
    "regr_extended = regr.fit(X2_train, y_train)\n",
    "\n",
    "\n",
    "#Erzeuge Gitter für Ausgabe\n",
    "phi1 = np.linspace(-2.0, 2.0, 100).reshape(100,1)\n",
    "phi2 = np.linspace(0.0, 4.0, 100).reshape(100,1)\n",
    "phi1v, phi2v = np.meshgrid(phi1, phi2)\n",
    "\n",
    "# Ausgabe Graphen\n",
    "y_extended_lin_pred = regr_extended.predict(np.array([phi1v.ravel(), phi2v.ravel()]).T).reshape(phi1v.shape)  \n",
    "\n",
    "%matplotlib notebook\n",
    "\n",
    "# Kombination aus 3d Scatterplot und 3d Surfaceplot\n",
    "fig = plt.figure(figsize=(10, 10))\n",
    "ax = fig.add_subplot(111, projection='3d')\n",
    "ax.scatter(df2[['phi_1']], df2[['phi_2']], df2[['y']], 'o', c='k')\n",
    "ax.plot_surface(phi1v, phi2v, y_extended_lin_pred, cmap=cm.jet)\n",
    "ax.text2D(0.05, 0.95, \"lineare Regression\", transform=ax.transAxes)\n",
    "ax.set_xlabel('phi_1')\n",
    "ax.set_ylabel('phi_2')\n",
    "ax.set_zlabel('y')\n",
    "plt.show()"
   ]
  },
  {
   "cell_type": "markdown",
   "metadata": {},
   "source": [
    "### 2: quadratische Regression - automatisch"
   ]
  },
  {
   "cell_type": "markdown",
   "metadata": {},
   "source": [
    "### Modelle bilden & trainieren"
   ]
  },
  {
   "cell_type": "code",
   "execution_count": null,
   "metadata": {},
   "outputs": [],
   "source": [
    "# Regressionsgerade und Vorhersage\n",
    "# Importieren der Funktion: PolynomialFeatures\n",
    "# In Kombination anwenden mit LinearRegression von scikit learn\n",
    "\n",
    "# Daten nochmal holen\n",
    "X_train = df[['X']]\n",
    "\n",
    "from sklearn.preprocessing import PolynomialFeatures\n",
    "\n",
    "\n",
    "# polynomiale Basisfunktion Grad = 2, Objekt bauen und anwenden\n",
    "quadr_features = PolynomialFeatures(degree = 2)\n",
    "X_quadr_train = quadr_features.fit_transform(X_train)\n",
    "\n",
    "# Modell erzeugen und lineare Regression mit X_quadr_train trainieren\n",
    "regr_extended_linear = LinearRegression()\n",
    "regr_extended_linear = regr_extended_linear.fit(X_quadr_train, y_train)\n",
    "\n",
    "# Überprüfung\n",
    "# Berechne MAE\n",
    "from sklearn.metrics import mean_absolute_error as mae\n",
    "regr_mae = mae(y_train, regr_extended_linear.predict(X_quadr_train))\n",
    "print('Fehlerabweichung (Erweiterung des Basisraums): \\t' + str(regr_mae))\n",
    "\n",
    "#Version 2 eleganter, kürzer und effizienter\n",
    "from sklearn.pipeline import make_pipeline\n",
    "\n",
    "# Trainieren des quadratischen Regressionsmodells\n",
    "regr_quadratic = make_pipeline(PolynomialFeatures(degree=2), LinearRegression())\n",
    "regr_quadratic = regr_quadratic.fit(X_train, y_train)\n",
    "\n",
    "# Überprüfung\n",
    "# Berechne MAE\n",
    "quadr_mae = mae(y_train, regr_quadratic.predict(X_train))\n",
    "print('Fehlerabweichung (Pipeline): \\t\\t\\t' + str(quadr_mae))\n"
   ]
  },
  {
   "cell_type": "code",
   "execution_count": null,
   "metadata": {
    "scrolled": false
   },
   "outputs": [],
   "source": [
    "# Ausgabe Graphen\n",
    "y_quad_pred = regr_quadratic.predict(X_grid)\n",
    "\n",
    "%matplotlib inline \n",
    "plt.figure(figsize=(9,6))\n",
    "plt.plot(df['X'], df['y'], 'o', label='Daten')\n",
    "plt.plot(X_grid, y_quad_pred, label='Regressionsgerade')\n",
    "plt.xlabel('X')\n",
    "plt.ylabel('y')\n",
    "plt.title('Datensatz mit Modelgeraden')\n",
    "plt.legend()\n",
    "plt.show()"
   ]
  },
  {
   "cell_type": "code",
   "execution_count": null,
   "metadata": {},
   "outputs": [],
   "source": []
  }
 ],
 "metadata": {
  "kernelspec": {
   "display_name": "Python (MLiP)",
   "language": "python",
   "name": "python-mlip"
  },
  "language_info": {
   "codemirror_mode": {
    "name": "ipython",
    "version": 3
   },
   "file_extension": ".py",
   "mimetype": "text/x-python",
   "name": "python",
   "nbconvert_exporter": "python",
   "pygments_lexer": "ipython3",
   "version": "3.8.13"
  }
 },
 "nbformat": 4,
 "nbformat_minor": 2
}
