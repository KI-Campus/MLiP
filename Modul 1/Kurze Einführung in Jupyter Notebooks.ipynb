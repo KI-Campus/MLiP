{
 "cells": [
  {
   "cell_type": "markdown",
   "metadata": {},
   "source": [
    "# Kurze Einführung in Jupyter Notebooks\n",
    "\n",
    "#### Dieses Notebook gibt eine kurze Einführung in die Nutzung von Jupyter Notebooks.\n",
    "\n",
    "### Gliederung:\n",
    "\n",
    "#### Allgemeine Einführung zu Juypter, Bedienung, Tipps und Tricks\n",
    "In diesem Teil lernen Sie Jupyter Notebooks grundsätzlich kennen, was ist ein Notebook, wie wird es bedient wird. Des Weiteren gibt es ein paar Tipps und Tricks, die die Arbeit erleichtern. \n",
    "\n",
    "#### Praktische Arbeit mit Jupyter\n",
    "0. Bibliotheken importieren\n",
    "1. Datensatz importieren und als Tabelle ausgeben\n",
    "2. Daten im Streudiagramm darstellen"
   ]
  },
  {
   "cell_type": "markdown",
   "metadata": {},
   "source": [
    "### Allgemeine Einführung zu Juypter, Bedienung, Tipps und Tricks\n",
    "#### Was ist ein Jupyter Notebook?\n",
    "Jupyter Notebooks sind web-basierte, interaktive Dokumente, die aus einzelnen Zellen besteht. Zellen sind entweder direkt ausführbaren Code-Zellen (insbesondere Python) oder Text (welcher mit Markdown formatiert wird). Dabei wird bei Ausführung der Code-Zellen die Ergebnisse unmittelbar in dem Notebook angezeigt. Dadurch eignen sich die Jupyer Notebooks besonders für Visualisierungsaufgaben und Entwicklung von Data Science Projekten.  \n",
    "\n",
    "Das Dokument, dass jetzt zu sehen ist, wird in Ihrem Browser dargestellt. Wird ein Zelle und insbesondere Code-Zelle ausgeführt, erfolgt das im Hintergrund über einen zugeordneten Kernel. Es ist zu beachten, dass jedem Notebook ein eigener Kernel zugeordnet wird. Dadurch ist es kein Problem, wenn ein Notebook mal abstürzen sollte, da es keinen Einfluss auf die anderen Notebooks hat. Diser Prozess wird alles im Hintegrund von Jupyter Notebook gesteuert.\n",
    "\n",
    "Mehr Infos siehe https://jupyter-notebook.readthedocs.io/en/latest/notebook.html\n"
   ]
  },
  {
   "cell_type": "markdown",
   "metadata": {},
   "source": [
    "#### Wie wird ein Notebook bedient? \n",
    "Im Folgenden sehen Sie einen ausführbaren Code-Zelle, mit einem kleinen Programm. Es soll die Ausgabe \"Hello World\" erfolgen und die Zahlen 3 und 4 werden addiert. \n",
    "Es gibt mehrere Möglichkeiten, wie Sie die Zelle ausführen können. Zuerst müssen Sie die Zelle anklicken. Dann: \n",
    "1. Run-Button [Bild-Run-Button]\n",
    "2. Tasten-Kombination  \n",
    "Per \"Strg + Enter\" Die Zelle wird ausgeführt.  \n",
    "Per \"Shift + Enter\" Die Zelle wird ausgeführt und Sie gelangen automatisch zum nächsten Zelle.  \n",
    "Per \"Alt + Enter\" Die Zelle wird ausgeführt und eine neue Zelle darunter wird erzeugt.\n",
    "\n",
    "Mein Favorit ist die letzte Variante mit Shift und Enter.\n"
   ]
  },
  {
   "cell_type": "markdown",
   "metadata": {},
   "source": [
    "Neben Code-Zelle sehen Sie in eckigen Klammern eine Zahl. Die Nummerierung ist zählt mit, wie viele Zellen schon und in welcher Reihenfolge ausgeführt worden sind.  "
   ]
  },
  {
   "cell_type": "code",
   "execution_count": null,
   "metadata": {},
   "outputs": [],
   "source": [
    "a = a + 23\n",
    "print(a)"
   ]
  },
  {
   "cell_type": "code",
   "execution_count": null,
   "metadata": {},
   "outputs": [],
   "source": [
    "a = 12\n",
    "print(a)"
   ]
  },
  {
   "cell_type": "markdown",
   "metadata": {},
   "source": [
    "Beachten Sie dass Notebooks in beliebiger Reihenfolge ausgeführt werden können. Ergebnisse also Variablen, Funktion usw. aus einer ausgeführten Code-Zelle sind in den anderen Code-Zellen danach wieder verfügbar.  \n",
    "Beispielsweise können Sie sich in der nächsten Code-Zelle die Variable a ausgeben lassen. "
   ]
  },
  {
   "cell_type": "markdown",
   "metadata": {},
   "source": [
    "## Anwendungsbeispiel"
   ]
  },
  {
   "cell_type": "markdown",
   "metadata": {},
   "source": [
    "### 0. Bibliotheken importieren\n",
    "\n",
    "Bei Python wie bei vielen anderen Programmiersprachen gibt es viele bestehende Lösungen für Probleme und Aufgaben. Diese Lösungen sind in Bibliotheken (auch libraries und packages genannt) zusammengefasst. Diese müssen Sie importieren, damit Sie die entsprechenden Funktionen nutzen können.    \n",
    "\n",
    "Numpy ist eine Python-Bibliothek für Datentypen und Funktionen, die für numerische Berechnungen otpimiert sind. \n",
    "\n",
    "Die Pandas Bibliothek stellt uns die Datenstruktur DataFrames und einige dazugehörige Funktionen zur Verfügung.  \n",
    "DataFrames sind \"zweidimensionale\" Tabellen, die im folgenden Kurs häufig für unsere Daten genutzt werden.  \n",
    "\n",
    "Matplotlib ist eine Bibliothek zum Plotten von Diagrammen und Darstellungen. \n",
    "\n",
    "Für einige Bibliotheken haben sich Standardabkürzungen durchgesetzt, um den Schreibaufwand zu reduzieren.  \n",
    "Bspw. für pandas die Abkürzung pd.  "
   ]
  },
  {
   "cell_type": "code",
   "execution_count": null,
   "metadata": {},
   "outputs": [],
   "source": [
    "# 0. Code-Block\n",
    "\n",
    "# Importiere benötigter Bibliotheken\n",
    "import numpy as np\n",
    "import pandas as pd\n",
    "import matplotlib.pyplot as plt\n",
    "\n",
    "%matplotlib inline"
   ]
  },
  {
   "cell_type": "markdown",
   "metadata": {},
   "source": [
    "### 1. Datensatz importieren und als Tabelle ausgeben\n",
    "\n",
    "TODO: \n",
    "- Ausführen des 1. Code-Blocks (markieren und dann \"Run\" oder \"Shift + Enter\" drücken)\n",
    "\n",
    "AUSGABE:\n",
    "- Tabelle der Daten (ersten 10 Zeilen)"
   ]
  },
  {
   "cell_type": "code",
   "execution_count": null,
   "metadata": {},
   "outputs": [],
   "source": [
    "# 1. Code-Block\n",
    "\n",
    "# Importiere Datensatz\n",
    "df = pd.read_csv(\"Trainingsdaten_Rattern.csv\")\n",
    "\n",
    "# Ausgabe Tabelle\n",
    "df.head(10)"
   ]
  },
  {
   "cell_type": "markdown",
   "metadata": {},
   "source": [
    "### 2. Daten im Streudiagramm darstellen\n",
    "Um die Daten aus einem DataFrame in einem Streudiagramm darzustellen, müssen Sie die entsprechenden Spalten auswählen und dann der plot Funktion von matplotlib übergeben.\n",
    "\n",
    "TODO: \n",
    "- Ausführen des Code-Blocks \n",
    "\n",
    "AUSGABE:\n",
    "- Streudiagramm der gewählten Variablen"
   ]
  },
  {
   "cell_type": "code",
   "execution_count": null,
   "metadata": {},
   "outputs": [],
   "source": [
    "# 2. Code-Block\n",
    "\n",
    "variable_1 = \"Drehzahl Spindel\"\n",
    "variable_2 = \"Tiefe des Schnitts\"\n",
    "\n",
    "# Ausgabe des Streudiagramms\n",
    "plt.scatter(df['Drehzahl Spindel'], df['Tiefe des Schnitts'], c=df['Rattern'])\n",
    "plt.show()"
   ]
  },
  {
   "cell_type": "markdown",
   "metadata": {},
   "source": [
    "Diagramme und Darstellungen können nach belieben weiter verfeinert werden. Hier ein Beispiel "
   ]
  },
  {
   "cell_type": "code",
   "execution_count": null,
   "metadata": {},
   "outputs": [],
   "source": [
    "# 3. Code-Block\n",
    "\n",
    "# Ausgabe eines Streudiagramms\n",
    "plt.figure(figsize=(12, 8))\n",
    "\n",
    "plt.scatter(df['Drehzahl Spindel'], df['Tiefe des Schnitts'], \n",
    "            c=df['Rattern'], \n",
    "            cmap=plt.cm.coolwarm)\n",
    "\n",
    "plt.xlim(7750, 16250)\n",
    "plt.ylim(0, 0.023)\n",
    "plt.grid()\n",
    "\n",
    "plt.xlabel(variable_1)\n",
    "plt.ylabel(variable_2)\n",
    "plt.title(\"Streudiagramm\")\n",
    "\n",
    "plt.show()"
   ]
  },
  {
   "cell_type": "markdown",
   "metadata": {},
   "source": [
    "#### Tipps und Tricks:\n",
    "\n",
    "* Autovervollständigung, bekannte Variablen, Funktionen usw. lassen sich per Taste \"tab\" vervollständigen bzw. Vorschläge werden angezeigt. \n",
    "* Doku anzeigen lassen, bei Funktionen und Methode können Sie sich per \"Shift + tab\" bzw. \"shift + tab + tab\" bzw. \"shift + tab + tab + tab\" die Dokumentation anzeigen lassen. \n"
   ]
  },
  {
   "cell_type": "code",
   "execution_count": null,
   "metadata": {},
   "outputs": [],
   "source": []
  }
 ],
 "metadata": {
  "file_extension": ".py",
  "hide_input": false,
  "kernelspec": {
   "display_name": "Python (MLiP)",
   "language": "python",
   "name": "python-mlip"
  },
  "language_info": {
   "codemirror_mode": {
    "name": "ipython",
    "version": 3
   },
   "file_extension": ".py",
   "mimetype": "text/x-python",
   "name": "python",
   "nbconvert_exporter": "python",
   "pygments_lexer": "ipython3",
   "version": "3.8.12"
  },
  "mimetype": "text/x-python",
  "name": "python",
  "npconvert_exporter": "python",
  "pygments_lexer": "ipython3",
  "toc": {
   "base_numbering": 1,
   "nav_menu": {},
   "number_sections": true,
   "sideBar": true,
   "skip_h1_title": false,
   "title_cell": "Table of Contents",
   "title_sidebar": "Contents",
   "toc_cell": false,
   "toc_position": {},
   "toc_section_display": true,
   "toc_window_display": false
  },
  "version": 3
 },
 "nbformat": 4,
 "nbformat_minor": 2
}
