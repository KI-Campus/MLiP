{
 "cells": [
  {
   "cell_type": "markdown",
   "metadata": {},
   "source": [
    "# Maschinelles Lernen in der Produktion - Modul 1 - Bias vs. Variance\n",
    "\n",
    "\n",
    "#### In diesem Notebook werden Bias und Variance sowie Underfitting und Overfitting für das Verfahren Regression betrachtet.\n",
    "\n",
    "1. Datenübersich\n",
    "2. einfache Lineare Regression\n",
    "3. Polynomiale Regression\n",
    "\n",
    "Was passiert, wenn die Daten etwas geändert werden?\n"
   ]
  },
  {
   "cell_type": "code",
   "execution_count": null,
   "metadata": {},
   "outputs": [],
   "source": [
    "# Importiere benötigte Bibliotheken\n",
    "import numpy as np\n",
    "import pandas as pd\n",
    "import matplotlib.pyplot as plt\n",
    "\n",
    "%matplotlib inline\n",
    "style = 'seaborn-whitegrid'\n",
    "plt.style.use(style)\n",
    "plt.rcParams.update({'font.size': 14})  # Schriftgröße aller Textzeichen im Graphen\n"
   ]
  },
  {
   "cell_type": "code",
   "execution_count": null,
   "metadata": {},
   "outputs": [],
   "source": [
    "# Erzeuge Datensatz\n",
    "df = pd.DataFrame({ 'Alter' : np.array([23, 31, 51, 59, 67]),\n",
    "                    'Einkommen (€)' : np.array([23500, 52000, 81000, 63000, 51000 ])\n",
    "                  })\n",
    "df"
   ]
  },
  {
   "cell_type": "code",
   "execution_count": null,
   "metadata": {},
   "outputs": [],
   "source": [
    "# Darstellung der Daten als Scatterplot\n",
    "plt.figure(figsize=(10, 6))\n",
    "plt.plot(df['Alter'], df['Einkommen (€)'], 'o')\n",
    "plt.xlabel('Alter')\n",
    "plt.ylabel('Einkommen (€)')\n",
    "plt.title('Datensatz')\n",
    "plt.show()\n"
   ]
  },
  {
   "cell_type": "code",
   "execution_count": null,
   "metadata": {},
   "outputs": [],
   "source": [
    "X = df[['Alter']]\n",
    "y = df[['Einkommen (€)']]\n",
    "#Erzeuge Gitter für Ausgabe\n",
    "X_grid = pd.DataFrame({'Alter' : np.linspace(20, 75, 100)})"
   ]
  },
  {
   "cell_type": "markdown",
   "metadata": {},
   "source": [
    "### 1: Lineare Regression"
   ]
  },
  {
   "cell_type": "code",
   "execution_count": null,
   "metadata": {},
   "outputs": [],
   "source": [
    "# Regressionsgerade und Vorhersage\n",
    "# Importieren der Funktion: Lineares Modell\n",
    "from sklearn import linear_model\n",
    "\n",
    "# Trainieren des Lineares Regressionsmodells\n",
    "linear_model = linear_model.LinearRegression()\n",
    "linear_mdl = linear_model.fit(X, y)\n"
   ]
  },
  {
   "cell_type": "code",
   "execution_count": null,
   "metadata": {},
   "outputs": [],
   "source": [
    "# Ausgabe Graphen\n",
    "y_lin_pred = linear_mdl.predict(X_grid)  \n",
    "\n",
    "plt.figure(figsize=(10, 6))\n",
    "plt.plot(df['Alter'], df['Einkommen (€)'], 'o')\n",
    "plt.xlabel('Alter')\n",
    "plt.ylabel('Einkommen (€)')\n",
    "plt.title('Datensatz mit Modelgeraden')\n",
    "plt.plot(X_grid['Alter'], y_lin_pred)\n",
    "plt.show()"
   ]
  },
  {
   "cell_type": "markdown",
   "metadata": {},
   "source": [
    "### 2: quadratische Regression"
   ]
  },
  {
   "cell_type": "code",
   "execution_count": null,
   "metadata": {},
   "outputs": [],
   "source": [
    "# Regressionsgerade und Vorhersage\n",
    "# Importieren der Funktion: PolynomialFeatures\n",
    "from sklearn.preprocessing import PolynomialFeatures\n",
    "from sklearn.pipeline import make_pipeline\n",
    "\n",
    "# Trainieren des quadratischen Regressionsmodells\n",
    "quadratic_mdl = make_pipeline(PolynomialFeatures(degree=2), linear_model)\n",
    "quadratic_mdl = quadratic_mdl.fit(X, y)\n"
   ]
  },
  {
   "cell_type": "code",
   "execution_count": null,
   "metadata": {},
   "outputs": [],
   "source": [
    "# Ausgabe Graphen\n",
    "y_quad_pred = quadratic_mdl.predict(X_grid)\n",
    "\n",
    "plt.figure(figsize=(10, 6))\n",
    "plt.plot(df['Alter'], df['Einkommen (€)'], 'o')\n",
    "plt.xlabel('Alter')\n",
    "plt.ylabel('Einkommen (€)')\n",
    "plt.title('Datensatz mit Modelgeraden')\n",
    "plt.plot(X_grid['Alter'], y_quad_pred)\n",
    "plt.show()"
   ]
  },
  {
   "cell_type": "markdown",
   "metadata": {},
   "source": [
    "### 3: polynomiale Regression"
   ]
  },
  {
   "cell_type": "code",
   "execution_count": null,
   "metadata": {},
   "outputs": [],
   "source": [
    "# Regressionsgerade und Vorhersage\n",
    "# Trainieren des polynomialen Regressionsmodells\n",
    "poly_mdl = make_pipeline(PolynomialFeatures(degree=9), linear_model)\n",
    "poly_mdl = poly_mdl.fit(X, y)"
   ]
  },
  {
   "cell_type": "code",
   "execution_count": null,
   "metadata": {},
   "outputs": [],
   "source": [
    "# Ausgabe Graphen\n",
    "y_poly_pred = poly_mdl.predict(X_grid)\n",
    "\n",
    "plt.figure(figsize=(10, 6))\n",
    "plt.plot(df['Alter'], df['Einkommen (€)'], 'o')\n",
    "plt.xlabel('Alter')\n",
    "plt.ylabel('Einkommen (€)')\n",
    "plt.title('Datensatz mit Modelgeraden')\n",
    "plt.plot(X_grid['Alter'], y_poly_pred)\n",
    "plt.show()"
   ]
  },
  {
   "cell_type": "code",
   "execution_count": null,
   "metadata": {},
   "outputs": [],
   "source": [
    "# Ausgabe Graphen\n",
    "f, axs = plt.subplots(1,3,figsize=(20,8))\n",
    "plt.subplot(131); \n",
    "plt.plot(df['Alter'], df['Einkommen (€)'], 'o', X_grid['Alter'], y_lin_pred); \n",
    "plt.plot(40, 65000, 'x', c = 'r')\n",
    "plt.xlabel('Alter')\n",
    "plt.ylabel('Einkommen (€)')\n",
    "plt.ylim((20000,90000))\n",
    "plt.title('lineares Modell')\n",
    "plt.subplot(132); \n",
    "plt.plot(df['Alter'], df['Einkommen (€)'], 'o', X_grid['Alter'], y_quad_pred); \n",
    "plt.plot(40, 65000, 'x', c = 'r')\n",
    "plt.xlabel('Alter')\n",
    "plt.ylabel('Einkommen (€)')\n",
    "plt.ylim((20000,90000))\n",
    "plt.title('quadratisches Modell')\n",
    "plt.subplot(133); \n",
    "plt.plot(df['Alter'], df['Einkommen (€)'], 'o', X_grid['Alter'], y_poly_pred); \n",
    "plt.plot(40, 65000, 'rx')\n",
    "plt.xlabel('Alter')\n",
    "plt.ylabel('Einkommen (€)')\n",
    "plt.ylim((20000,90000))\n",
    "plt.title('polynomiales Modell')\n",
    "plt.show()"
   ]
  },
  {
   "cell_type": "markdown",
   "metadata": {},
   "source": [
    "## Veränderte Daten"
   ]
  },
  {
   "cell_type": "code",
   "execution_count": null,
   "metadata": {},
   "outputs": [],
   "source": [
    "# Importiere Datensatz\n",
    "# Alter von 59 auf 55 geändert\n",
    "df_2 = pd.DataFrame({ 'Alter' : np.array([23, 31, 51, 55, 67]),\n",
    "                    'Einkommen (€)' : np.array([23500, 52000, 81000, 63000, 51000 ])\n",
    "                    })     \n",
    "\n",
    "\n",
    "plt.figure(figsize=(10, 6))\n",
    "plt.plot(df_2['Alter'], df_2['Einkommen (€)'], 'o')\n",
    "plt.xlabel('Alter')\n",
    "plt.ylabel('Einkommen (€)')\n",
    "plt.title('Datensatz')\n",
    "plt.show()\n",
    "\n",
    "X_2 = df_2[['Alter']]\n",
    "y_2 = df_2[['Einkommen (€)']]"
   ]
  },
  {
   "cell_type": "markdown",
   "metadata": {},
   "source": [
    "### 1: lineare Regression"
   ]
  },
  {
   "cell_type": "code",
   "execution_count": null,
   "metadata": {},
   "outputs": [],
   "source": [
    "# Trainieren des Lineares Regressionsmodells\n",
    "linear_mdl_2 = linear_model.fit(X_2, y_2)\n",
    "# Ausgabe Graphen\n",
    "y_2_lin_pred = linear_mdl.predict(X_grid)  \n",
    "\n",
    "plt.figure(figsize=(10, 6))\n",
    "plt.plot(df_2['Alter'], df_2['Einkommen (€)'], 'o')\n",
    "plt.xlabel('Alter')\n",
    "plt.ylabel('Einkommen (€)')\n",
    "plt.title('Datensatz mit Modelgeraden')\n",
    "plt.plot(X_grid['Alter'], y_2_lin_pred)\n",
    "plt.show()"
   ]
  },
  {
   "cell_type": "markdown",
   "metadata": {},
   "source": [
    "### 2: quadratische Regression"
   ]
  },
  {
   "cell_type": "code",
   "execution_count": null,
   "metadata": {},
   "outputs": [],
   "source": [
    "# Trainieren des quadratischen Regressionsmodells\n",
    "quadratic_mdl_2 = make_pipeline(PolynomialFeatures(degree=2), linear_model)\n",
    "quadratic_mdl_2 = quadratic_mdl.fit(X_2, y)\n",
    "\n",
    "\n",
    "# Ausgabe Graphen\n",
    "y_2_quad_pred = quadratic_mdl_2.predict(X_grid)\n",
    "\n",
    "plt.figure(figsize=(10, 6))\n",
    "plt.plot(df_2['Alter'], df_2['Einkommen (€)'], 'o')\n",
    "plt.xlabel('Alter')\n",
    "plt.ylabel('Einkommen (€)')\n",
    "plt.title('Datensatz mit Modelgeraden')\n",
    "plt.plot(X_grid, y_2_quad_pred)\n",
    "plt.show()"
   ]
  },
  {
   "cell_type": "markdown",
   "metadata": {},
   "source": [
    "### 3: polynomiale Regression"
   ]
  },
  {
   "cell_type": "code",
   "execution_count": null,
   "metadata": {},
   "outputs": [],
   "source": [
    "# Trainieren des polynomialen Regressionsmodells\n",
    "poly_mdl_2 = make_pipeline(PolynomialFeatures(degree=9), linear_model)\n",
    "poly_mdl_2 = poly_mdl_2.fit(X_2, y)\n",
    "\n",
    "# Ausgabe Graphen\n",
    "y_2_poly_pred = poly_mdl_2.predict(X_grid)\n",
    "\n",
    "plt.figure(figsize=(10, 6))\n",
    "plt.plot(df_2['Alter'], df_2['Einkommen (€)'], 'o')\n",
    "plt.xlabel('Alter')\n",
    "plt.ylabel('Einkommen (€)')\n",
    "plt.title('Datensatz mit Modelgeraden')\n",
    "plt.plot(X_grid, y_2_poly_pred)\n",
    "plt.show()"
   ]
  },
  {
   "cell_type": "code",
   "execution_count": null,
   "metadata": {
    "scrolled": false
   },
   "outputs": [],
   "source": [
    "# Ausgabe Graphen\n",
    "f, axs = plt.subplots(1,3,figsize=(20,8))\n",
    "plt.subplot(131); \n",
    "plt.plot(df['Alter'], df['Einkommen (€)'], 'o')\n",
    "plt.plot(X_grid, y_lin_pred, label='Orig') \n",
    "plt.plot(df_2['Alter'], df_2['Einkommen (€)'], 'o', c = 'g')\n",
    "plt.plot(X_grid, y_2_lin_pred, c ='g', label='New') \n",
    "plt.plot(40, 65000, 'x', c = 'r')\n",
    "plt.xlabel('Alter')\n",
    "plt.ylabel('Einkommen (€)')\n",
    "plt.ylim((20000,90000))\n",
    "plt.legend()\n",
    "plt.title('lineares Modell')\n",
    "\n",
    "plt.subplot(132); \n",
    "plt.plot(df['Alter'], df['Einkommen (€)'], 'o')\n",
    "plt.plot(X_grid, y_quad_pred, label='Orig') \n",
    "plt.plot(df_2['Alter'], df_2['Einkommen (€)'], 'o', c = 'g')\n",
    "plt.plot(X_grid, y_2_quad_pred, c ='g', label='New')\n",
    "plt.plot(40, 65000, 'x', c = 'r')\n",
    "plt.xlabel('Alter')\n",
    "plt.ylabel('Einkommen (€)')\n",
    "plt.ylim((20000,90000))\n",
    "plt.legend()\n",
    "plt.title('quadratisches Modell')\n",
    "\n",
    "plt.subplot(133); \n",
    "plt.plot(df['Alter'], df['Einkommen (€)'], 'o')\n",
    "plt.plot(X_grid, y_poly_pred, label='Orig') \n",
    "plt.plot(df_2['Alter'], df_2['Einkommen (€)'], 'o', c ='g')\n",
    "plt.plot(X_grid, y_2_poly_pred, c ='g', label='New'); \n",
    "plt.plot(40, 65000, 'x', c = 'r')\n",
    "plt.xlabel('Alter')\n",
    "plt.ylabel('Einkommen (€)')\n",
    "plt.ylim((20000,90000))\n",
    "plt.legend()\n",
    "plt.title('polynomiales Modell')\n",
    "plt.show()"
   ]
  },
  {
   "cell_type": "code",
   "execution_count": null,
   "metadata": {},
   "outputs": [],
   "source": []
  }
 ],
 "metadata": {
  "kernelspec": {
   "display_name": "Python (MLiP)",
   "language": "python",
   "name": "python-mlip"
  },
  "language_info": {
   "codemirror_mode": {
    "name": "ipython",
    "version": 3
   },
   "file_extension": ".py",
   "mimetype": "text/x-python",
   "name": "python",
   "nbconvert_exporter": "python",
   "pygments_lexer": "ipython3",
   "version": "3.7.4"
  }
 },
 "nbformat": 4,
 "nbformat_minor": 2
}
