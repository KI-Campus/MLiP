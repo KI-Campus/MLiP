{
 "cells": [
  {
   "cell_type": "markdown",
   "metadata": {},
   "source": [
    "# MLiP - K-Means Clustering Funktionsweise\n",
    "Kurs Maschinelles Lernen in der Produktion\n",
    "\n",
    "### In diesem Notebook wird das Schrittweise Vorgehen des K-Means Algorithmus gezeigt\n",
    "\n",
    "Der K-Means Algorithmus versucht die within-cluster variation, also die Summe der quadrierten Abweichungen von den Cluster-Schwerpunkten (Centroids) zu minimieren.\\\n",
    "Da es zu Beginn noch keine Cluster gibt, müssen zuerst die Cluster, also eigentlich die Centroids initialisiert werden.\\\n",
    "Nun werden abwechselnd alle Datenpunkte den Cluster zugeordnet und anschließend die Centroide aktualisiert. "
   ]
  },
  {
   "cell_type": "markdown",
   "metadata": {},
   "source": [
    "### 0. Bibliotheken importieren"
   ]
  },
  {
   "cell_type": "code",
   "execution_count": null,
   "metadata": {},
   "outputs": [],
   "source": [
    "# Importiere benötigte Bibliotheken\n",
    "import pandas as pd\n",
    "import numpy as np\n",
    "import matplotlib.pyplot as plt\n",
    "import matplotlib.patches as mpatches\n",
    "import matplotlib.cm as cm\n",
    "from matplotlib import colors\n",
    "\n",
    "#Einstellungen für die Grafikausgabe\n",
    "style = 'seaborn-whitegrid'\n",
    "plt.style.use(style)\n",
    "plt.rcParams.update({'font.size': 14})  # Schriftgröße aller Textzeichen im Graphen\n",
    "\n",
    "# Definition eigener Farben für die spätere Darstellung\n",
    "mycolors = ['#1f77b4', '#ff7f0e', '#2ca02c', '#d62728', '#9467bd', '#8c564b']\n",
    "cmap = colors.ListedColormap(mycolors)"
   ]
  },
  {
   "cell_type": "markdown",
   "metadata": {},
   "source": [
    "TODO:\n",
    "* Wähle eine Zahl zwischen 1 und 100 für die Generierung deiner spezifischen Zufallszahlen my_seed=\n",
    "\n",
    "(Wähle für alle Notebooks in allen Übungen immer die gleiche Zahl (z.B. den Tag deines Geburtstags), dann sind die Ergebnisse der verschiedenen Machine-Learning-Verfahren vergleichbar da dann alle Notebooks mit der \"gleichen\" Folge an Zufallszahlen arbeiten)\n",
    "\n",
    "AUSGABE:\n",
    "* Gewählte Zufallszahl"
   ]
  },
  {
   "cell_type": "code",
   "execution_count": null,
   "metadata": {},
   "outputs": [],
   "source": [
    "# Erstelle eigene Zufallszahlen\n",
    "my_seed = 2\n",
    "\n",
    "# Ausgabe gewählte Zufallszahlen\n",
    "print(\"\\nGewählte Zahl für Zufallszahlen: \\t\" + str(my_seed))\n",
    "\n",
    "# Seed für Zufallszahlengenerator von numpy festlegen\n",
    "np.random.seed(my_seed)"
   ]
  },
  {
   "cell_type": "markdown",
   "metadata": {},
   "source": [
    "### 1. Daten erfassen - Daten erzeugen"
   ]
  },
  {
   "cell_type": "code",
   "execution_count": null,
   "metadata": {},
   "outputs": [],
   "source": [
    "# Datensatz erzeugen\n",
    "df = pd.DataFrame({\n",
    "    'x1': [8, 11, 15, 18, 22, 25, 27, 32, 30, 23, 27, 30, 42, 47, 49, 53, 42, 44, 46, 51, 59, 64, 71 ],\n",
    "    'x2': [58, 57, 52, 67, 61, 50, 71, 65, 76, 19, 11, 6, 28, 10, 26, 3, 46, 42, 56, 45, 45, 61, 38]})"
   ]
  },
  {
   "cell_type": "markdown",
   "metadata": {},
   "source": [
    "### 2. Daten erkunden"
   ]
  },
  {
   "cell_type": "code",
   "execution_count": null,
   "metadata": {},
   "outputs": [],
   "source": [
    "plt.figure(figsize=(5, 5))\n",
    "plt.scatter(df['x1'], df['x2'], color='k')\n",
    "plt.xlim(0, 80)\n",
    "plt.ylim(0, 80)\n",
    "plt.xlabel('x1')\n",
    "plt.ylabel('x2')\n",
    "plt.show()"
   ]
  },
  {
   "cell_type": "markdown",
   "metadata": {},
   "source": [
    "### 4. Modell bilden\n",
    "In diesem Abschnitt werden nun zufällige Startwerte für die Centroiden erzeugt.\\\n",
    "Dann wird iterativ\n",
    "* die Datenpunkten den Cluster zugeordnet\n",
    "* die Centroiden neu für die Cluster berechnet\n",
    "\n",
    "Dies geschieht so lange, bis sich keine Änderung bei den Clustern ergibt. "
   ]
  },
  {
   "cell_type": "code",
   "execution_count": null,
   "metadata": {},
   "outputs": [],
   "source": [
    "# Initialisierung durch \n",
    "# Festlegung der Anzahl der Cluster k\n",
    "k = 3\n",
    "\n",
    "# Zufällige Erzeugung der Centroiden (Mittelpunkte der Clusters)\n",
    "centroids = pd.DataFrame({\n",
    "    'x1': np.random.randint(0, 80, size=k),\n",
    "    'x2': np.random.randint(0, 80, size=k),\n",
    "    'cluster': np.arange(1,k+1)\n",
    "    })\n",
    "\n",
    "plt.figure(figsize=(8, 8))\n",
    "plt.scatter(df['x1'], df['x2'], color='k')\n",
    "for i in range(0,k):\n",
    "    plt.plot(centroids.at[i,'x1'],centroids.at[i,'x2'], 's', markersize=8)\n",
    "plt.xlim(0, 80)\n",
    "plt.ylim(0, 80)\n",
    "plt.xlabel('x1')\n",
    "plt.ylabel('x2')\n",
    "plt.legend([mpatches.Patch(color=cmap(b)) for b in np.arange(0,k)],\n",
    "           ['Cluster '+ str(b) for b in np.arange(1,k+1)])\n",
    "plt.title('Initialisierung Centroide')\n",
    "plt.show()"
   ]
  },
  {
   "cell_type": "markdown",
   "metadata": {},
   "source": [
    "### Ordne Daten in Cluster, d.h. den nächsten Centroiden zu"
   ]
  },
  {
   "cell_type": "code",
   "execution_count": null,
   "metadata": {},
   "outputs": [],
   "source": [
    "# Berechne Abstand zu den Centroiden und bestimme nähesten Centroid\n",
    "# Abstandsberechnungen\n",
    "for i in range(0,k):\n",
    "    # || x - c_i||^2 \n",
    "    df['Abstand_c_'+str(i)] = np.sqrt((df['x1'] - centroids.at[i,'x1']) ** 2 \n",
    "                                      + (df['x2'] - centroids.at[i,'x2']) ** 2)\n",
    "# Bestimmung nähester Centroid\n",
    "Abstand_cols = ['Abstand_c_'+str(i) for i in range(0,k)]\n",
    "df['centroid'] = df.loc[:, Abstand_cols].idxmin(axis=1).apply(lambda x: int(x.split(sep='_')[-1]))\n",
    "df['color'] = [mycolors[x] for x in df['centroid']]\n",
    "\n",
    "# Plot Datenpunkte mit Einfärbung gemäß nähesten Centroid\n",
    "fig = plt.figure(figsize=(8, 8))\n",
    "plt.scatter(df['x1'], df['x2'], color=df['color'])\n",
    "for i in range(0,k):\n",
    "    plt.plot(centroids.at[i,'x1'],centroids.at[i,'x2'], 's', markersize=8)\n",
    "plt.xlim(0, 80)\n",
    "plt.ylim(0, 80)\n",
    "plt.xlabel('x1')\n",
    "plt.ylabel('x2')\n",
    "plt.legend([mpatches.Patch(color=cmap(b)) for b in np.arange(0,k)],\n",
    "           ['Cluster '+ str(b) for b in np.arange(1,k+1)])\n",
    "plt.title('Erste Clusterzuordnung')\n",
    "plt.show()"
   ]
  },
  {
   "cell_type": "markdown",
   "metadata": {},
   "source": [
    "## Folgende beiden Schritte müssen iterativ nacheinander ausgeführt werden!"
   ]
  },
  {
   "cell_type": "markdown",
   "metadata": {},
   "source": [
    "### Aktualisiere und Plotte neue Centroids"
   ]
  },
  {
   "cell_type": "code",
   "execution_count": null,
   "metadata": {},
   "outputs": [],
   "source": [
    "# Plot Verschiebung der Centroids\n",
    "\n",
    "# Speicherung alter Centroiden\n",
    "centroids_alt = centroids.copy(deep=True)\n",
    "\n",
    "# Aktualisierung der Centroids\n",
    "for i in range(0,k):\n",
    "    centroids.at[i,'x1'] = np.mean(df[df['centroid'] == i]['x1'])\n",
    "    centroids.at[i,'x2'] = np.mean(df[df['centroid'] == i]['x2'])\n",
    "\n",
    "# Plot Verschiebung Centroids\n",
    "plt.figure(figsize=(8, 8))\n",
    "plt.scatter(df['x1'], df['x2'], color=df['color'], edgecolor='k')\n",
    "for i in range(0,k):\n",
    "    plt.plot(centroids.at[i,'x1'], centroids.at[i,'x2'], 's', markersize=8)\n",
    "plt.xlim(0, 80)\n",
    "plt.ylim(0, 80)\n",
    "plt.xlabel('x1')\n",
    "plt.ylabel('x2')\n",
    "for i in range(0,k):\n",
    "    x1_alt = centroids_alt.at[i,'x1']\n",
    "    x2_alt = centroids_alt.at[i,'x2']\n",
    "    dx1 = (centroids.at[i,'x1'] - centroids_alt.at[i,'x1']) * 0.75\n",
    "    dx2 = (centroids.at[i,'x2'] - centroids_alt.at[i,'x2']) * 0.75\n",
    "    plt.arrow(x1_alt, x2_alt, dx1, dx2, head_width=2, head_length=3, fc=mycolors[i], ec=mycolors[i])\n",
    "plt.legend([mpatches.Patch(color=cmap(b)) for b in np.arange(0,k)],\n",
    "           ['Cluster '+ str(b) for b in np.arange(1,k+1)])\n",
    "plt.title('Update Centroide')\n",
    "plt.show()"
   ]
  },
  {
   "cell_type": "markdown",
   "metadata": {},
   "source": [
    "### Ordne Daten in Cluster, d.h. den nächsten Centroiden zu"
   ]
  },
  {
   "cell_type": "code",
   "execution_count": null,
   "metadata": {},
   "outputs": [],
   "source": [
    "# Abstandsberechnungen\n",
    "for i in range(0,k):\n",
    "    # || x - c_i||^2 \n",
    "    df['Abstand_c_'+str(i)] = np.sqrt((df['x1'] - centroids.at[i,'x1']) ** 2 \n",
    "                                      + (df['x2'] - centroids.at[i,'x2']) ** 2)\n",
    "# Bestimmung nähester Centroid\n",
    "Abstand_cols = ['Abstand_c_'+str(i) for i in range(0,k)]\n",
    "df['centroid_alt'] = df['centroid']\n",
    "df['color_alt'] = df['color']\n",
    "df['centroid'] = df.loc[:, Abstand_cols].idxmin(axis=1).apply(lambda x: int(x.split(sep='_')[-1]))\n",
    "df['color'] = [mycolors[x] for x in df['centroid']]\n",
    "\n",
    "# Plot Datenpunkte mit Einfärbung (alt vs. neu) gemäß nähesten Centroid \n",
    "plt.figure(figsize=(16, 8))\n",
    "\n",
    "# Plot alte Zuordnung\n",
    "plt.subplot(1, 2, 1)\n",
    "plt.scatter(df['x1'], df['x2'], color=df['color_alt'])\n",
    "for i in range(0,k):\n",
    "    plt.plot(centroids.at[i,'x1'],centroids.at[i,'x2'], 's',markersize=8)\n",
    "plt.xlim(0, 80)\n",
    "plt.ylim(0, 80)\n",
    "plt.xlabel('x1')\n",
    "plt.ylabel('x2')\n",
    "plt.legend([mpatches.Patch(color=cmap(b)) for b in np.arange(0,k)],\n",
    "           ['Cluster '+ str(b) for b in np.arange(1,k+1)])\n",
    "plt.title('Clusterzuordnung alt')\n",
    "\n",
    "# Plot neue Zuordnung\n",
    "plt.subplot(1, 2, 2)\n",
    "\n",
    "plt.scatter(df['x1'], df['x2'], color=df['color'])\n",
    "for i in range(0,k):\n",
    "    plt.plot(centroids.at[i,'x1'], centroids.at[i,'x2'], 's', markersize=8)\n",
    "plt.xlim(0, 80)\n",
    "plt.ylim(0, 80)\n",
    "plt.xlabel('x1')\n",
    "plt.ylabel('x2')\n",
    "plt.legend([mpatches.Patch(color=cmap(b)) for b in np.arange(0,k)],\n",
    "           ['Cluster '+ str(b) for b in np.arange(1,k+1)])\n",
    "plt.title('Clusterzuordnung neu')\n",
    "plt.show()"
   ]
  },
  {
   "cell_type": "code",
   "execution_count": null,
   "metadata": {},
   "outputs": [],
   "source": []
  }
 ],
 "metadata": {
  "kernelspec": {
   "display_name": "Python (MLiP)",
   "language": "python",
   "name": "python-mlip"
  },
  "language_info": {
   "codemirror_mode": {
    "name": "ipython",
    "version": 3
   },
   "file_extension": ".py",
   "mimetype": "text/x-python",
   "name": "python",
   "nbconvert_exporter": "python",
   "pygments_lexer": "ipython3",
   "version": "3.7.4"
  }
 },
 "nbformat": 4,
 "nbformat_minor": 2
}
