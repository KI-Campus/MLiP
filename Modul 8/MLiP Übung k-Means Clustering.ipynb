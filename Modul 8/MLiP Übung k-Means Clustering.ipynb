{
 "cells": [
  {
   "cell_type": "markdown",
   "metadata": {},
   "source": [
    "# MLiP K-Means Clustering\n",
    "Kurs Maschinelles Lernen in der Produktion\n",
    "\n",
    "### In diesem Notebook wird das Clustering mit K-Means anhand eines Anwendungsbeispiels geübt\n",
    "\n",
    "Über den vorliegenden Datensatz ist nicht allzu viel bekannt. Es ist ein drei dimensionaler Datensatz. Im Gegensatz zur Regression und Klassifikation besteht der Datensatz für eine Clusteranalyse __nur aus Input-Parametern__. Ziel ist es den Datensatz in Gruppen (Cluster) zu unterteilen. Die korrekte Anzahl der Cluster ist unbekannt und muss selbst gewählt werden. \n",
    "\n",
    "Mittels des k-Means Clusterings soll der gegebene Datensatz in möglichst homogene Gruppe (Cluster) unterteilt werden. Jeder Datenpunkt (Sample) wird hierbei einer Klasse (einem Cluster) zugeordnet.\n",
    " \n",
    "### Data-Mining-Prozess:"
   ]
  },
  {
   "cell_type": "markdown",
   "metadata": {},
   "source": [
    "![Bild konnte nicht geladen werden! 1. Daten erfassen - 2. Daten erkunden - 3. Daten vorbereiten - 4. Modelle bilden - 5. Modelle validieren - 6. Modell testen](Prozess_Modellentwicklung_v2.png \"Title\")"
   ]
  },
  {
   "cell_type": "markdown",
   "metadata": {},
   "source": [
    "### 0. Bibliotheken importieren"
   ]
  },
  {
   "cell_type": "code",
   "execution_count": null,
   "metadata": {},
   "outputs": [],
   "source": [
    "# Importiere benötigte Bibliotheken\n",
    "import pandas as pd\n",
    "import numpy as np\n",
    "import matplotlib.pyplot as plt\n",
    "\n",
    "#Einstellungen für die Grafikausgabe\n",
    "style = 'seaborn-whitegrid'\n",
    "plt.style.use(style)\n",
    "plt.rcParams.update({'font.size': 14})  # Schriftgröße aller Textzeichen im Graphen"
   ]
  },
  {
   "cell_type": "markdown",
   "metadata": {},
   "source": [
    "TODO:\n",
    "* Wähle eine Zahl zwischen 1 und 100 für die Generierung deiner spezifischen Zufallszahlen my_seed=\n",
    "\n",
    "(Wähle für alle Notebooks in allen Übungen immer die gleiche Zahl (z.B. den Tag deines Geburtstags), dann sind die Ergebnisse der verschiedenen Machine-Learning-Verfahren vergleichbar da dann alle Notebooks mit der \"gleichen\" Folge an Zufallszahlen arbeiten)\n",
    "\n",
    "AUSGABE:\n",
    "* Gewählte Zufallszahl"
   ]
  },
  {
   "cell_type": "code",
   "execution_count": null,
   "metadata": {},
   "outputs": [],
   "source": [
    "# Erstelle eigene Zufallszahlen\n",
    "my_seed = TODO\n",
    "\n",
    "# Ausgabe gewählte Zufallszahlen\n",
    "print(\"\\nGewählte Zahl für Zufallszahlen: \\t\" + str(my_seed))"
   ]
  },
  {
   "cell_type": "markdown",
   "metadata": {},
   "source": [
    "### 1. Daten erfassen - Daten importieren"
   ]
  },
  {
   "cell_type": "code",
   "execution_count": null,
   "metadata": {},
   "outputs": [],
   "source": [
    "# Datensatz importieren\n",
    "df = pd.read_csv(\"Daten_Clustering.csv\")"
   ]
  },
  {
   "cell_type": "markdown",
   "metadata": {},
   "source": [
    "### 2. Daten erkunden\n",
    "In den bisherigen Notebooks wurden bereits mehrfach das Daten erkunden durchgeführt. Bei dieser Aufgabe ist es Ihre Aufgabe es selbstständig durchzuführen. \n",
    "\n",
    "TODO:\n",
    "- Durchführung Daten erkunden"
   ]
  },
  {
   "cell_type": "code",
   "execution_count": null,
   "metadata": {},
   "outputs": [],
   "source": [
    "TODO"
   ]
  },
  {
   "cell_type": "code",
   "execution_count": null,
   "metadata": {},
   "outputs": [],
   "source": [
    "TODO"
   ]
  },
  {
   "cell_type": "code",
   "execution_count": null,
   "metadata": {},
   "outputs": [],
   "source": [
    "TODO"
   ]
  },
  {
   "cell_type": "markdown",
   "metadata": {},
   "source": [
    "### 3. Daten vorbereiten"
   ]
  },
  {
   "cell_type": "code",
   "execution_count": null,
   "metadata": {},
   "outputs": [],
   "source": [
    "# Aufteilen des Datensatzes in X und y - Nicht nötig da 'Clustering'\n",
    "X_train = df.copy(deep=True)"
   ]
  },
  {
   "cell_type": "markdown",
   "metadata": {},
   "source": [
    "### 4.1 Modelle bilden - Mögliche Hyperparameter anzeigen"
   ]
  },
  {
   "cell_type": "code",
   "execution_count": null,
   "metadata": {},
   "outputs": [],
   "source": [
    "# Importieren des Modells\n",
    "from sklearn.cluster import KMeans"
   ]
  },
  {
   "cell_type": "markdown",
   "metadata": {},
   "source": [
    "Beschreibung der Hyperparameter:\n",
    "https://scikit-learn.org/stable/modules/generated/sklearn.cluster.KMeans.html"
   ]
  },
  {
   "cell_type": "markdown",
   "metadata": {},
   "source": [
    "### 4.2 Modelle bilden - Modell bilden\n",
    "\n",
    "In diesem Schritt wird das Modell erstellt. Dabei müssen auch die Hyperparameter mit angegeben werden. Wie aus der Dokumentation entnehmbar ist gibt es einige Einstellmöglichkeiten, die gerne ausprobiert werden dürfen.\\\n",
    "Wichtigste Aufgabe ist jedoch die passende Anzahl der Cluster zu finden. Dies muss manuell durchgeführt werden.\n",
    "\n",
    "TODO: \n",
    "- Festlegen der Anzahl der Cluster"
   ]
  },
  {
   "cell_type": "code",
   "execution_count": null,
   "metadata": {},
   "outputs": [],
   "source": [
    "# Erstellung des Modell \n",
    "model = KMeans(n_clusters=TODO, random_state=my_seed)"
   ]
  },
  {
   "cell_type": "markdown",
   "metadata": {},
   "source": [
    "### 4.3 Modelle bilden - Modell trainieren\n",
    "Nun wird das Modell trainiert.\\\n",
    "__Achtung:__\\\n",
    "Der .fit Befehl bekommt nur die Input Features X_train und keine Zielgrößen."
   ]
  },
  {
   "cell_type": "code",
   "execution_count": null,
   "metadata": {},
   "outputs": [],
   "source": [
    "# Trainiere das Modell\n",
    "model.fit(X_train)"
   ]
  },
  {
   "cell_type": "code",
   "execution_count": null,
   "metadata": {},
   "outputs": [],
   "source": [
    "# Ausgabe Clusterzentren\n",
    "model.cluster_centers_"
   ]
  },
  {
   "cell_type": "markdown",
   "metadata": {},
   "source": [
    "### 5.1 Modelle validieren - Bewertung mittels Abstand zum Clusterzentrum\n",
    "\n",
    "Um die Qualität/Güte des Modells zu bestimmen, wird der Abstand eines jeden Samples zu seinem zugehörigen Clusterzentrum berechnet. Die Summe aller Abstände je Cluster und deren Summe lässt eine Schluss auf die Güte des Clusterings zu."
   ]
  },
  {
   "cell_type": "code",
   "execution_count": null,
   "metadata": {},
   "outputs": [],
   "source": [
    "# Mittlerer quadratischer Abstand aller Punkte zum Clusterzentrum\n",
    "print(\"\\nCluster:\\t\\tMean squared distance:\\t\\tAnzahl Punkte in Cluster:\")\n",
    "mean_squared_distances = []\n",
    "for i, cluster in enumerate(model.cluster_centers_):\n",
    "    mask = model.labels_ == i\n",
    "    mean_squared_distance = ((X_train[\"x1\"][mask] - model.cluster_centers_[i][0]) ** 2\n",
    "                             + (X_train[\"x2\"][mask] - model.cluster_centers_[i][1]) ** 2\n",
    "                             + (X_train[\"x3\"][mask] - model.cluster_centers_[i][2]) ** 2).mean()\n",
    "    mean_squared_distances.append(mean_squared_distance)\n",
    "    print(\"Cluster \" + str(i) + \"\\t\\t\"\n",
    "          + str(\"%.2f\" % mean_squared_distance)\n",
    "          + \"\\t\\t\\t\\t\" + str(len(X_train[\"x1\"][mask])))\n",
    "print(\"mean (clusters)\\t\\t\"\n",
    "      + str(\"%.2f\" % (sum(mean_squared_distances) / len(mean_squared_distances)))\n",
    "      + \"\\t\\t\\t\\t\" + str(len(X_train)))\n",
    "\n",
    "plt.figure(figsize=(16, 5))\n",
    "plt.bar(range(len(model.cluster_centers_)), mean_squared_distances)\n",
    "plt.xticks(np.arange(0,len(model.cluster_centers_)))\n",
    "plt.xlabel(\"Cluster\")\n",
    "plt.ylabel(\"Mittlerer quadratische Abstand\")\n",
    "plt.show()"
   ]
  },
  {
   "cell_type": "markdown",
   "metadata": {},
   "source": [
    "### 5.2 Modelle validieren - Bewertung mittels Silhouettenkoeffizient\n",
    "Der Silhouettenkoeffizient für einzelne Datenpunkte variiert zwischen -1 und 1. Ein Wert von 1 bedeutet das der Punkt einen großen Abstand zu den umliegenden anderen Clustern hat. Ein Wert von 0 bedeutet das der Punkt auf der Grenze zwischen 2 Clustern liegt. Ein Wert von -1 bedeutet das der Punkt wahrscheinlich dem falschen Cluster zuegordnet wurde."
   ]
  },
  {
   "cell_type": "code",
   "execution_count": null,
   "metadata": {},
   "outputs": [],
   "source": [
    "# Berechne Silhouetten-Wert\n",
    "\n",
    "# import Berechnungsformeln für Silhouettenkoeffizient\n",
    "from sklearn.metrics import silhouette_samples, silhouette_score\n",
    "\n",
    "# Berechnung und Ausgabe des Silhouettenkoeffizient für den gesamten Datensatz\n",
    "print(\"mean silhouette:\\t\" + str(\"%.2f\" % silhouette_score(X_train, model.labels_)))"
   ]
  },
  {
   "cell_type": "code",
   "execution_count": null,
   "metadata": {},
   "outputs": [],
   "source": [
    "# Grafische ausgabe der Silhouettenkoeffizient je Datenpunkt\n",
    "\n",
    "# Berechnung der Silhouettenkoeffizient je Datenpunkt\n",
    "df[\"silhouette\"] = silhouette_samples(X_train, model.labels_)\n",
    "df[\"labels\"] = model.labels_\n",
    "df = df.sort_values([\"labels\", \"silhouette\"])\n",
    "\n",
    "# Definition eigener Farben für die spätere Darstellung\n",
    "mycolors = ['#1f77b4', '#ff7f0e', '#2ca02c', '#d62728', '#9467bd', '#8c564b']\n",
    "\n",
    "# Erstellung des Plots der Silhouttenkoeffizienten\n",
    "plt.figure(figsize=(16, 6))\n",
    "plt.bar(range(len(df)), df[\"silhouette\"], width=1., color = [mycolors[x] for x in df['labels']])\n",
    "plt.plot([0, len(df)],\n",
    "         [silhouette_score(X_train, model.labels_), silhouette_score(X_train, model.labels_)], 'k')\n",
    "plt.xlabel(\"Datenpunkte (sortiert nach Cluster und Silhouettenkoeffizient)\")\n",
    "plt.ylabel(\"Silhouettenkoeffizient\")\n",
    "plt.show()"
   ]
  },
  {
   "cell_type": "markdown",
   "metadata": {},
   "source": [
    "### 5.3 Modelle validieren - Visualisierung Clusterzentren\n",
    "\n",
    "Um die Modellgüte visuell darzustellen, wird ein 3D-Plot erstellt.\\\n",
    "Achtung, dies ist nur deshalb möglich, weil hier ein drei-dimensionaler Datensatz vorliegt. Ansonsten gibt es auch noch die Möglichkeit die sns.pairplot Funktion, siehe unten. "
   ]
  },
  {
   "cell_type": "code",
   "execution_count": null,
   "metadata": {},
   "outputs": [],
   "source": [
    "# 3D-Plot Ergebnis Clustering\n",
    "from mpl_toolkits.mplot3d import Axes3D\n",
    "from matplotlib.patches import Patch\n",
    "\n",
    "if i > len(mycolors):\n",
    "    print(\"Warning - Too much clusters! -> Colors don't match any more!\")\n",
    "\n",
    "# 3D Plot-Befehl\n",
    "fig = plt.figure(figsize=(12, 12))\n",
    "ax = fig.add_subplot(111, projection=\"3d\")\n",
    "legend = []\n",
    "\n",
    "# Plot der Datenpunkte mit Einfärbung\n",
    "ax.scatter(X_train[\"x1\"],\n",
    "           X_train[\"x2\"],\n",
    "           X_train[\"x3\"],\n",
    "           c=[mycolors[cluster] for cluster in model.labels_],\n",
    "           marker=\"o\",\n",
    "           s=140)\n",
    "\n",
    "# Plot der Centroids mit Einfärbung\n",
    "ax.scatter(model.cluster_centers_[:, 0],\n",
    "           model.cluster_centers_[:, 1],\n",
    "           model.cluster_centers_[:, 2],\n",
    "           c=mycolors[0:len(model.cluster_centers_)],\n",
    "           marker=\"o\",\n",
    "           edgecolor=\"black\",\n",
    "           s=500)\n",
    "\n",
    "ax.set_xlabel(\"x1\")\n",
    "ax.set_ylabel(\"x2\")\n",
    "ax.set_zlabel(\"x3\")\n",
    "plt.legend([Patch(color=mycolors[b]) for b in np.arange(0,len(model.cluster_centers_))],\n",
    "           ['Cluster '+ str(b) for b in np.arange(1,len(model.cluster_centers_)+1)])\n",
    "plt.show()"
   ]
  },
  {
   "cell_type": "markdown",
   "metadata": {},
   "source": [
    "Einfach Visualisierung des Clustering mittels dem seaborn pairplot. "
   ]
  },
  {
   "cell_type": "code",
   "execution_count": null,
   "metadata": {},
   "outputs": [],
   "source": [
    "# Erzeugung eines DataFrames für pairplot\n",
    "plot_df = X_train\n",
    "\n",
    "# Erweiterung des DataFrames um Spalte für Einfärbung\n",
    "plot_df = plot_df.assign(cluster_label = model.labels_)\n",
    "\n",
    "# Ausführung des Pairplots\n",
    "import seaborn as sns\n",
    "sns.pairplot(plot_df, hue=\"cluster_label\", palette=\"tab10\")\n",
    "plt.show()"
   ]
  },
  {
   "cell_type": "markdown",
   "metadata": {},
   "source": [
    "### 7. Bonus - Visualisierung k-Means: Anzahl Cluster und Mean-Squared-Distance\n",
    "Führe diesen Schritt erst aus, wenn du dich für eine Clusteranzahl entschieden hast.\n"
   ]
  },
  {
   "cell_type": "markdown",
   "metadata": {},
   "source": [
    "### 7.1 Visualisierung - Mittlerer quadratischer Abstand je Cluster"
   ]
  },
  {
   "cell_type": "code",
   "execution_count": null,
   "metadata": {},
   "outputs": [],
   "source": [
    "range_clusters = [2, 3, 4, 5]\n",
    "plt.figure(figsize=(16, 16))\n",
    "for clus in range_clusters:\n",
    "    # Erstelle Modell\n",
    "    kmeans = KMeans(n_clusters=clus, random_state=my_seed)\n",
    "    # Training des Modells\n",
    "    kmeans.fit(X_train)\n",
    "    \n",
    "    # Berechne Abstand\n",
    "    mean_squared_distances = []\n",
    "    cluster_names = []\n",
    "    for i, cluster_centers in enumerate(kmeans.cluster_centers_):\n",
    "        mask = kmeans.labels_ == i\n",
    "        mean_squared_distance = ((X_train[\"x1\"][mask] - kmeans.cluster_centers_[i][0]) ** 2\n",
    "                                 + (X_train[\"x2\"][mask] - kmeans.cluster_centers_[i][1]) ** 2\n",
    "                                 + (X_train[\"x3\"][mask] - kmeans.cluster_centers_[i][2]) ** 2).mean()\n",
    "        mean_squared_distances.append(mean_squared_distance)\n",
    "        cluster_names.append(str(i + 1))\n",
    "    \n",
    "    # Zeichne Bar-Plot\n",
    "    plt.subplot(3, 3, clus - 1)\n",
    "    plt.bar(cluster_names, mean_squared_distances)\n",
    "    plt.ylim([0, 150])\n",
    "    plt.xlabel(\"Cluster\")\n",
    "    plt.ylabel(\"Mittlerer quadratischer Abstand\")\n",
    "    plt.title(str(clus) + \" Cluster - mean: \"\n",
    "              + str(\"%.2f\" % (sum(mean_squared_distances) / len(mean_squared_distances))))\n",
    "plt.show()"
   ]
  },
  {
   "cell_type": "markdown",
   "metadata": {},
   "source": [
    "### 7.2. Visualisierung - Mittlerer quadratischer Abstand und Silhouettenkoeffizient über mehrere Cluster \n",
    "Im folgenden Schritt wird der Verlauf des mittleren quadratischen Abstands und des Silhouttenkoeffizienten geplottet.\\\n",
    "Anhand des Verlaufs des mittleren quadratischen Abstands kann man die elbow method (den Ellenbogentrick) durchführen.\\\n",
    "Beim Silhouttenkoeffizienten dagegen wählt man das Cluster mit dem höchsten Wert."
   ]
  },
  {
   "cell_type": "code",
   "execution_count": null,
   "metadata": {},
   "outputs": [],
   "source": [
    "range_clusters = range(10)\n",
    "range_clusters = range_clusters[1:]\n",
    "mean_errors = []\n",
    "clusters = []\n",
    "silhouettes = []\n",
    "\n",
    "for clus in range_clusters:\n",
    "    # Erstelle Modell\n",
    "    kmeans = KMeans(n_clusters=clus, random_state=my_seed)\n",
    "    # Modell trainieren\n",
    "    kmeans.fit(X_train)\n",
    "    \n",
    "    # Berechne Abstand\n",
    "    if clus != 1:\n",
    "        silhouettes.append(silhouette_score(X_train, kmeans.labels_))\n",
    "    mean_errors.append(kmeans.inertia_)\n",
    "    clusters.append(clus)\n",
    "    \n",
    "# Plots erstellen\n",
    "plt.figure(figsize=(16, 12))\n",
    "plt.subplot(2, 1, 1)\n",
    "plt.plot(clusters, mean_errors, \"o--\")\n",
    "plt.xlim(min(range_clusters)-0.5, max(range_clusters)+0.5)\n",
    "plt.xlabel(\"Anzahl der Cluster\")\n",
    "plt.ylabel(\"mittlerer quadratischer Abstand\")\n",
    "\n",
    "plt.subplot(2, 1, 2)\n",
    "plt.plot(clusters[1:], silhouettes, \"o--\")\n",
    "plt.xlabel(\"Anzahl der Cluster\")\n",
    "plt.ylabel(\"Silhouettenkoeffizient\")\n",
    "plt.xlim(min(range_clusters)-0.5, max(range_clusters)+0.5)\n",
    "plt.show()"
   ]
  },
  {
   "cell_type": "code",
   "execution_count": null,
   "metadata": {},
   "outputs": [],
   "source": []
  }
 ],
 "metadata": {
  "kernelspec": {
   "display_name": "Python (MLiP)",
   "language": "python",
   "name": "python-mlip"
  },
  "language_info": {
   "codemirror_mode": {
    "name": "ipython",
    "version": 3
   },
   "file_extension": ".py",
   "mimetype": "text/x-python",
   "name": "python",
   "nbconvert_exporter": "python",
   "pygments_lexer": "ipython3",
   "version": "3.7.4"
  }
 },
 "nbformat": 4,
 "nbformat_minor": 4
}
